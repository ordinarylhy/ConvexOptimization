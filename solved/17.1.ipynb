{
 "cells": [
  {
   "attachments": {},
   "cell_type": "markdown",
   "metadata": {},
   "source": [
    "17.1 Transaction cost"
   ]
  },
  {
   "attachments": {},
   "cell_type": "markdown",
   "metadata": {},
   "source": [
    "(a) Note that $p_N^{buy}<=...<=p_1^{buy}<p_1^{sell}<=...<=p_N^{sell}$, so T is convex.\n",
    "\n",
    "(b) When $p_N^{buy}=...=p_1^{buy}<p_1^{sell}=...=p_N^{sell}$.\n",
    "\n",
    "(c) Suppose you can purchase or sell the asset in another market at the price $p^{other}$.\n",
    "\n",
    "Then the conjugate $T^*(p^{other}-p^{mid})$ is the maximum profit you can gain from the arbitrage that if $q^*>=0$, you sell $q^*$ shares in another market and purchase $q^*$ shares in the current market and otherwise you buy $q^*$ shares in another market and purchase $q^*$ shares in the current market."
   ]
  }
 ],
 "metadata": {
  "kernelspec": {
   "display_name": "Python 3.9.6 64-bit",
   "language": "python",
   "name": "python3"
  },
  "language_info": {
   "codemirror_mode": {
    "name": "ipython",
    "version": 3
   },
   "file_extension": ".py",
   "mimetype": "text/x-python",
   "name": "python",
   "nbconvert_exporter": "python",
   "pygments_lexer": "ipython3",
   "version": "3.10.9"
  },
  "orig_nbformat": 4,
  "vscode": {
   "interpreter": {
    "hash": "31f2aee4e71d21fbe5cf8b01ff0e069b9275f58929596ceb00d14d90e3e16cd6"
   }
  }
 },
 "nbformat": 4,
 "nbformat_minor": 2
}
