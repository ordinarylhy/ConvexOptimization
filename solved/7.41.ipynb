{
 "cells": [
  {
   "attachments": {},
   "cell_type": "markdown",
   "metadata": {},
   "source": [
    "7.41 Autoregressive process with Poisson conditionals"
   ]
  },
  {
   "cell_type": "code",
   "execution_count": 2,
   "metadata": {},
   "outputs": [],
   "source": [
    "import numpy as np\n",
    "import cvxpy as cp\n",
    "from matplotlib import pyplot as plt"
   ]
  },
  {
   "cell_type": "code",
   "execution_count": 3,
   "metadata": {},
   "outputs": [],
   "source": [
    "# Set random seed for reproducibility\n",
    "np.random.seed(1)\n",
    "# Set initial values\n",
    "num_points = 200\n",
    "x = np.zeros(num_points)\n",
    "lam = np.zeros(num_points)\n",
    "nu = 0.3\n",
    "omega = 1.5\n",
    "lam[0] = nu\n",
    "x[0] = np.random.poisson(lam[0])\n",
    "# Generate values for x and update lambda\n",
    "for t in range(1, num_points):\n",
    "    lam[t] = nu*(omega**x[t-1])\n",
    "    x[t] = np.random.poisson(lam[t])\n",
    "\n",
    "def plot_x():\n",
    "    \"\"\"Helper function if you want to visualize x\"\"\"\n",
    "    import matplotlib.pyplot as plt\n",
    "    plt.stem(x)\n",
    "    plt.xlabel('t')\n",
    "    plt.ylabel('x')\n",
    "    plt.show()"
   ]
  },
  {
   "attachments": {},
   "cell_type": "markdown",
   "metadata": {},
   "source": [
    "maximize $\\prod e^{-\\lambda}\\lambda^x$\n",
    "$\\Leftrightarrow$\n",
    "minimize $\\exp(\\log\\nu + \\log\\sum\\exp([x_{i-1}\\log\\omega]_i))-\\sum x\\log_nu-\\sum x_ix_{i-1}\\log\\omega$"
   ]
  },
  {
   "cell_type": "code",
   "execution_count": 13,
   "metadata": {},
   "outputs": [],
   "source": [
    "log_nu = cp.Variable()\n",
    "log_omega = cp.Variable()\n",
    "objective = cp.Minimize(cp.exp(log_nu + cp.log_sum_exp(cp.multiply(x[:-1], log_omega)))\n",
    " - np.sum(x) * log_nu - np.dot(x[:-1], x[1:]) * log_omega) \n",
    "constraints = []\n",
    "prob = cp.Problem(objective, constraints)\n",
    "result = prob.solve()"
   ]
  },
  {
   "cell_type": "code",
   "execution_count": 14,
   "metadata": {},
   "outputs": [
    {
     "name": "stdout",
     "output_type": "stream",
     "text": [
      "0.3659196284837259 1.3640269988917861\n"
     ]
    }
   ],
   "source": [
    "print(np.exp(log_nu.value), np.exp(log_omega.value))"
   ]
  }
 ],
 "metadata": {
  "kernelspec": {
   "display_name": "Python 3.9.6 64-bit",
   "language": "python",
   "name": "python3"
  },
  "language_info": {
   "codemirror_mode": {
    "name": "ipython",
    "version": 3
   },
   "file_extension": ".py",
   "mimetype": "text/x-python",
   "name": "python",
   "nbconvert_exporter": "python",
   "pygments_lexer": "ipython3",
   "version": "3.10.9"
  },
  "orig_nbformat": 4,
  "vscode": {
   "interpreter": {
    "hash": "31f2aee4e71d21fbe5cf8b01ff0e069b9275f58929596ceb00d14d90e3e16cd6"
   }
  }
 },
 "nbformat": 4,
 "nbformat_minor": 2
}
