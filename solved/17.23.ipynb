{
 "cells": [
  {
   "attachments": {},
   "cell_type": "markdown",
   "metadata": {},
   "source": [
    "17.23 Computing market-clearing prices"
   ]
  },
  {
   "attachments": {},
   "cell_type": "markdown",
   "metadata": {},
   "source": [
    "Integral of an increasing function is convex. So it suffices to minimize $\\int_0^p S(x)\\cdot dx - E(p)$.\n",
    "\n",
    "For $S(p) = (0.2p_1+0.5, 0.02p_2+0.1, 0.04p_3,0.1p_4+0.2)$,\n",
    "\n",
    "$\\int_0^p S(x)\\cdot dx = 0.2p_1^2/2+0.5p_1+0.02p_2^2/2+0.1p_2+0.04p_3^2/2+0.1p_4^2/2+0.2p_4-\\text{constant}$"
   ]
  },
  {
   "cell_type": "code",
   "execution_count": 1,
   "metadata": {},
   "outputs": [],
   "source": [
    "import numpy as np\n",
    "import cvxpy as cp\n",
    "from matplotlib import pyplot as plt"
   ]
  },
  {
   "cell_type": "code",
   "execution_count": 6,
   "metadata": {},
   "outputs": [
    {
     "name": "stdout",
     "output_type": "stream",
     "text": [
      "market-clearing prices: [0.63633005 2.61932754 3.15890104 1.23417422]\n"
     ]
    }
   ],
   "source": [
    "n = 4\n",
    "p = cp.Variable(n, nonneg=True)\n",
    "objective = cp.Minimize(\n",
    "    0.2 * cp.square(p[0]) / 2 + 0.5 * p[0]\n",
    "    + 0.02 * cp.square(p[1]) / 2 + 0.1 * p[1]\n",
    "    + 0.04 * cp.square(p[2]) / 2 \n",
    "    + 0.1 * cp.square(p[3]) / 2 + 0.2 * p[3]\n",
    "    - cp.geo_mean(p)\n",
    ")\n",
    "constraints = []\n",
    "prob = cp.Problem(objective, constraints)\n",
    "result = prob.solve()\n",
    "print('market-clearing prices:', p.value)"
   ]
  },
  {
   "cell_type": "code",
   "execution_count": 7,
   "metadata": {},
   "outputs": [
    {
     "name": "stdout",
     "output_type": "stream",
     "text": [
      "supply: [0.6272660099737849, 0.15238655078574936, 0.12635604143337528, 0.32341742180550637]\n",
      "demand: [0.6272689  0.15238646 0.12635725 0.32341467]\n"
     ]
    }
   ],
   "source": [
    "price = np.array(p.value)\n",
    "print('supply:', [0.2*price[0]+.5, .02*price[1]+.1,.04*price[2],.1*price[3]+.2])\n",
    "from scipy.stats import gmean\n",
    "print('demand:', gmean(price) / n / price)"
   ]
  }
 ],
 "metadata": {
  "kernelspec": {
   "display_name": "Python 3.9.6 64-bit",
   "language": "python",
   "name": "python3"
  },
  "language_info": {
   "codemirror_mode": {
    "name": "ipython",
    "version": 3
   },
   "file_extension": ".py",
   "mimetype": "text/x-python",
   "name": "python",
   "nbconvert_exporter": "python",
   "pygments_lexer": "ipython3",
   "version": "3.10.9"
  },
  "orig_nbformat": 4,
  "vscode": {
   "interpreter": {
    "hash": "31f2aee4e71d21fbe5cf8b01ff0e069b9275f58929596ceb00d14d90e3e16cd6"
   }
  }
 },
 "nbformat": 4,
 "nbformat_minor": 2
}
