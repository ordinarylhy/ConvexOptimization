{
 "cells": [
  {
   "attachments": {},
   "cell_type": "markdown",
   "metadata": {},
   "source": [
    "17.16 Option price bounds\n",
    "\n",
    "see example 5.10 in the textbook"
   ]
  },
  {
   "cell_type": "code",
   "execution_count": 1,
   "metadata": {},
   "outputs": [],
   "source": [
    "import numpy as np\n",
    "import cvxpy as cp\n",
    "from matplotlib import pyplot as plt"
   ]
  },
  {
   "cell_type": "code",
   "execution_count": 9,
   "metadata": {},
   "outputs": [],
   "source": [
    "n = 7  # 7 assets\n",
    "prices = np.array([1,1,.06,.03,.02,.01])  # prices of the first 6 assets\n",
    "m = 200  # 200 scenarios\n",
    "S = np.linspace(0.5,2, m)\n",
    "V = np.zeros((m,n))  # value matrix\n",
    "V[:,0] = 1.05\n",
    "V[:,1] = S\n",
    "V[:,2] = np.clip(S-1.1, a_min=0, a_max=None)\n",
    "V[:,3] = np.clip(S-1.2, a_min=0, a_max=None)\n",
    "V[:,4] = np.clip(0.8-S, a_min=0, a_max=None)\n",
    "V[:,5] = np.clip(0.7-S, a_min=0, a_max=None)\n",
    "V[:,6] = np.minimum(1.15, np.maximum(S, 0.9))"
   ]
  },
  {
   "cell_type": "code",
   "execution_count": 12,
   "metadata": {},
   "outputs": [
    {
     "name": "stdout",
     "output_type": "stream",
     "text": [
      "price range of the collar: 0.9849999999999373 1.0173313492063338\n"
     ]
    }
   ],
   "source": [
    "p = cp.Variable(n)\n",
    "y = cp.Variable(m, nonneg=True)\n",
    "objective = cp.Minimize(p[6])\n",
    "constraints = [\n",
    "    p[:-1] == prices,\n",
    "    V.T @ y == p\n",
    "]\n",
    "prob = cp.Problem(objective, constraints)\n",
    "result = prob.solve()\n",
    "p_min = p.value[6]\n",
    "p = cp.Variable(n)\n",
    "y = cp.Variable(m, nonneg=True)\n",
    "objective = cp.Maximize(p[6])\n",
    "constraints = [\n",
    "    p[:-1] == prices,\n",
    "    V.T @ y == p\n",
    "]\n",
    "prob = cp.Problem(objective, constraints)\n",
    "result = prob.solve()\n",
    "print('price range of the collar:', p_min, p.value[6])"
   ]
  }
 ],
 "metadata": {
  "kernelspec": {
   "display_name": "Python 3.9.6 64-bit",
   "language": "python",
   "name": "python3"
  },
  "language_info": {
   "codemirror_mode": {
    "name": "ipython",
    "version": 3
   },
   "file_extension": ".py",
   "mimetype": "text/x-python",
   "name": "python",
   "nbconvert_exporter": "python",
   "pygments_lexer": "ipython3",
   "version": "3.10.9"
  },
  "orig_nbformat": 4,
  "vscode": {
   "interpreter": {
    "hash": "31f2aee4e71d21fbe5cf8b01ff0e069b9275f58929596ceb00d14d90e3e16cd6"
   }
  }
 },
 "nbformat": 4,
 "nbformat_minor": 2
}
