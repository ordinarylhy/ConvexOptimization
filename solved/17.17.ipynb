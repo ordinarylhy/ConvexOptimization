{
 "cells": [
  {
   "attachments": {},
   "cell_type": "markdown",
   "metadata": {},
   "source": [
    "17.17 Protfolio maximization with qualitative return forecasts"
   ]
  },
  {
   "cell_type": "code",
   "execution_count": 1,
   "metadata": {},
   "outputs": [],
   "source": [
    "import numpy as np\n",
    "import cvxpy as cp\n",
    "from matplotlib import pyplot as plt"
   ]
  },
  {
   "cell_type": "code",
   "execution_count": 2,
   "metadata": {},
   "outputs": [],
   "source": [
    "np.random.seed(0)\n",
    "n = 10  # number of stocks\n",
    "\n",
    "c = 0.05 + np.random.randn(n) * 0.1\n",
    "r = np.random.rand(n) * 0.2\n",
    "l = c - r\n",
    "u = c + r\n",
    "\n",
    "Sigma = np.random.randn(n, n)   # capital Sigma\n",
    "Sigma = 3 * np.eye(n) + Sigma.T @ Sigma\n",
    "Sigma = Sigma / np.max(np.diag(Sigma))\n",
    "Sigma = (0.2 ** 2) * Sigma\n",
    "\n",
    "sigma_max = np.sqrt(0.07)   # small sigma"
   ]
  },
  {
   "cell_type": "code",
   "execution_count": 13,
   "metadata": {},
   "outputs": [
    {
     "name": "stdout",
     "output_type": "stream",
     "text": [
      "1.5826731936322491\n"
     ]
    }
   ],
   "source": [
    "x = cp.Variable(n)\n",
    "objective = cp.Maximize(l.T @ x)\n",
    "constraints = [cp.sum(x) == 1, cp.quad_form(x, Sigma) <= sigma_max]\n",
    "prob = cp.Problem(objective, constraints)\n",
    "result = prob.solve()\n",
    "print(objective.value)\n",
    "x_opt = x.value"
   ]
  },
  {
   "cell_type": "code",
   "execution_count": 14,
   "metadata": {},
   "outputs": [
    {
     "name": "stdout",
     "output_type": "stream",
     "text": [
      "1.74614297759931\n"
     ]
    }
   ],
   "source": [
    "x = cp.Variable(n)\n",
    "objective = cp.Maximize(c.T @ x)\n",
    "constraints = [cp.sum(x) == 1, cp.quad_form(x, Sigma) <= sigma_max]\n",
    "prob = cp.Problem(objective, constraints)\n",
    "result = prob.solve()\n",
    "print(objective.value)\n",
    "x_mid = x.value"
   ]
  },
  {
   "cell_type": "code",
   "execution_count": 15,
   "metadata": {},
   "outputs": [
    {
     "name": "stdout",
     "output_type": "stream",
     "text": [
      "1.427337748796242 1.74614297759931\n",
      "1.5826731936322491 1.2769691775827392\n"
     ]
    }
   ],
   "source": [
    "print(c.T @ x_opt, c.T @ x_mid)\n",
    "print(l.T @ x_opt, l.T @ x_mid)"
   ]
  }
 ],
 "metadata": {
  "kernelspec": {
   "display_name": "Python 3.9.6 64-bit",
   "language": "python",
   "name": "python3"
  },
  "language_info": {
   "codemirror_mode": {
    "name": "ipython",
    "version": 3
   },
   "file_extension": ".py",
   "mimetype": "text/x-python",
   "name": "python",
   "nbconvert_exporter": "python",
   "pygments_lexer": "ipython3",
   "version": "3.10.9"
  },
  "orig_nbformat": 4,
  "vscode": {
   "interpreter": {
    "hash": "31f2aee4e71d21fbe5cf8b01ff0e069b9275f58929596ceb00d14d90e3e16cd6"
   }
  }
 },
 "nbformat": 4,
 "nbformat_minor": 2
}
