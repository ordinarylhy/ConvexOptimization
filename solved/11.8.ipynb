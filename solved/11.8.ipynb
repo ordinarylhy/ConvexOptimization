{
 "cells": [
  {
   "attachments": {},
   "cell_type": "markdown",
   "metadata": {},
   "source": [
    "11.8 Standard form LP barrier with infeasible start Newton Method"
   ]
  },
  {
   "cell_type": "code",
   "execution_count": 1,
   "metadata": {},
   "outputs": [],
   "source": [
    "import numpy as np\n",
    "import cvxpy as cp\n",
    "from matplotlib import pyplot as plt\n",
    "from LPsolver import *"
   ]
  },
  {
   "cell_type": "code",
   "execution_count": 11,
   "metadata": {},
   "outputs": [],
   "source": [
    "# random problem data\n",
    "np.random.seed(364+ord('a'))\n",
    "m = 100\n",
    "n= 500\n",
    "A = np.vstack((np.random.randn(m-1, n), np.ones((1, n))))\n",
    "x0 = np.random.rand(n) \n",
    "b = A @ x0\n",
    "c = np.random.randn(n)"
   ]
  },
  {
   "cell_type": "code",
   "execution_count": 12,
   "metadata": {},
   "outputs": [
    {
     "name": "stdout",
     "output_type": "stream",
     "text": [
      "True\n",
      "Barrier method with Newton infeasible start result -340.4106470959846\n",
      "cvx result -340.4113228331666\n"
     ]
    },
    {
     "data": {
      "image/png": "[encoded data removed]",
      "text/plain": [
       "<Figure size 640x480 with 1 Axes>"
      ]
     },
     "metadata": {},
     "output_type": "display_data"
    }
   ],
   "source": [
    "problem = LPsolver_Infeasible(A, b, c)\n",
    "x_star, lambda_star, nu_star  = problem.barrier()\n",
    "# check KKT condition (so x_star, lambda_star, nu_star are the primal and dual optimal points)\n",
    "print(lambda_star @ x_star + nu_star @ (A @ x_star - b) < 1e-3)\n",
    "print('Barrier method with Newton infeasible start result', x_star @ c)\n",
    "# CVX result\n",
    "x = cp.Variable(n, nonneg=True)\n",
    "objective = cp.Minimize(c @ x)\n",
    "constraints = [A @ x == b]\n",
    "prob = cp.Problem(objective, constraints)\n",
    "prob.solve()\n",
    "print('cvx result', objective.value)\n",
    "plt.step(np.cumsum(problem.history[0]), np.log(problem.history[1]))\n",
    "plt.show()"
   ]
  }
 ],
 "metadata": {
  "kernelspec": {
   "display_name": "Python 3.9.6 64-bit",
   "language": "python",
   "name": "python3"
  },
  "language_info": {
   "codemirror_mode": {
    "name": "ipython",
    "version": 3
   },
   "file_extension": ".py",
   "mimetype": "text/x-python",
   "name": "python",
   "nbconvert_exporter": "python",
   "pygments_lexer": "ipython3",
   "version": "3.10.9"
  },
  "orig_nbformat": 4,
  "vscode": {
   "interpreter": {
    "hash": "31f2aee4e71d21fbe5cf8b01ff0e069b9275f58929596ceb00d14d90e3e16cd6"
   }
  }
 },
 "nbformat": 4,
 "nbformat_minor": 2
}
