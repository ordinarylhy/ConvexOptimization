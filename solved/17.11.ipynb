{
 "cells": [
  {
   "attachments": {},
   "cell_type": "markdown",
   "metadata": {},
   "source": [
    "17.11 Planning production with uncertain demand"
   ]
  },
  {
   "cell_type": "code",
   "execution_count": 9,
   "metadata": {},
   "outputs": [],
   "source": [
    "import numpy as np\n",
    "import cvxpy as cp\n",
    "import pandas as pd\n",
    "from matplotlib import pyplot as plt"
   ]
  },
  {
   "cell_type": "code",
   "execution_count": 24,
   "metadata": {},
   "outputs": [],
   "source": [
    "# EE364a final 2008.\n",
    "# Data file for planning production with uncertain demand.\n",
    "\n",
    "m = 10\n",
    "n = 5\n",
    "A = np.array([\n",
    "    [2.366901e+00, 9.225166e+00, 3.134479e-01, 1.167367e-03, 2.630108e+00],\n",
    "    [7.629718e+00, 6.572125e+00, 2.968444e-01, 3.926119e+00, 8.304189e+00],\n",
    "    [2.953393e-01, 7.043942e+00, 4.266152e+00, 3.010095e+00, 5.905376e-02],\n",
    "    [3.350696e+00, 9.787648e+00, 3.654591e+00, 9.173810e+00, 6.003669e+00],\n",
    "    [6.129761e+00, 4.985908e+00, 7.246996e+00, 9.907955e-01, 3.258985e+00],\n",
    "    [8.628890e+00, 9.462188e+00, 8.075062e-01, 6.788963e+00, 5.681140e+00],\n",
    "    [9.636813e-01, 7.721915e+00, 1.984296e+00, 6.986341e+00, 8.710456e+00],\n",
    "    [2.895132e+00, 5.014184e+00, 5.930241e+00, 2.392373e+00, 5.322871e+00],\n",
    "    [7.380000e+00, 4.801396e+00, 5.443409e+00, 5.222640e+00, 9.737169e+00],\n",
    "    [6.244729e+00, 2.479154e+00, 7.607417e+00, 8.454429e-01, 7.471550e+00],\n",
    "])\n",
    "K = 150\n",
    "D = pd.read_csv('./17.11 D.txt', delimiter=r'\\s+', header=None, comment=';')\n",
    "D = D.to_numpy()\n",
    "pi = np.array([6.666667e-03] * 150)\n",
    "p = np.array([   24,   36,   35,   4,   15])\n",
    "c = np.array([\n",
    "     5.194198e-03,\n",
    "     8.893598e-02,\n",
    "     1.262552e-02,\n",
    "     6.928238e-02,\n",
    "     1.533116e-02,\n",
    "     8.070621e-02,\n",
    "     2.729405e-02,\n",
    "     5.535691e-02,\n",
    "     9.570272e-02,\n",
    "     3.178305e-02\n",
    "])"
   ]
  },
  {
   "cell_type": "code",
   "execution_count": 71,
   "metadata": {},
   "outputs": [
    {
     "name": "stdout",
     "output_type": "stream",
     "text": [
      "[45.52027638 65.82866303 44.64888839 76.65547413 71.957196   77.84374448\n",
      " 59.25845171 61.89429467 83.24603792 73.0731687 ]\n"
     ]
    },
    {
     "data": {
      "text/plain": [
       "114.33132731944436"
      ]
     },
     "execution_count": 71,
     "metadata": {},
     "output_type": "execute_result"
    }
   ],
   "source": [
    "# choose r and q ahead of time.\n",
    "r = cp.Variable(m, nonneg=True)\n",
    "q = cp.Variable(n, nonneg=True)\n",
    "objective = cp.Maximize(pi.T @ cp.minimum(D, cp.vstack([q] * 150)) @ p - c.T @ r)\n",
    "constraints = [r >= A @ q]\n",
    "prob = cp.Problem(objective, constraints)\n",
    "result = prob.solve()\n",
    "print(r.value)\n",
    "objective.value"
   ]
  },
  {
   "cell_type": "code",
   "execution_count": 82,
   "metadata": {},
   "outputs": [
    {
     "name": "stdout",
     "output_type": "stream",
     "text": [
      "[65.69236358 59.60623776 55.15147688 70.76177356 69.73422316 68.35452397\n",
      " 55.34356421 57.37144094 63.76714526 66.17207219]\n"
     ]
    },
    {
     "data": {
      "text/plain": [
       "133.03925468870182"
      ]
     },
     "execution_count": 82,
     "metadata": {},
     "output_type": "execute_result"
    }
   ],
   "source": [
    "# choose r ahead of time, and after d is known, choose q\n",
    "r = cp.Variable(m, nonneg=True)\n",
    "q = cp.Variable((K,n), nonneg=True)\n",
    "objective = cp.Maximize(pi.T @ cp.minimum(D, q) @ p - c.T @ r)\n",
    "constraints = [cp.vstack([r] * K).T >= A @ q.T, ]\n",
    "prob = cp.Problem(objective, constraints)\n",
    "result = prob.solve()\n",
    "print(r.value)\n",
    "objective.value"
   ]
  }
 ],
 "metadata": {
  "kernelspec": {
   "display_name": "Python 3.9.6 64-bit",
   "language": "python",
   "name": "python3"
  },
  "language_info": {
   "codemirror_mode": {
    "name": "ipython",
    "version": 3
   },
   "file_extension": ".py",
   "mimetype": "text/x-python",
   "name": "python",
   "nbconvert_exporter": "python",
   "pygments_lexer": "ipython3",
   "version": "3.10.9"
  },
  "orig_nbformat": 4,
  "vscode": {
   "interpreter": {
    "hash": "31f2aee4e71d21fbe5cf8b01ff0e069b9275f58929596ceb00d14d90e3e16cd6"
   }
  }
 },
 "nbformat": 4,
 "nbformat_minor": 2
}
