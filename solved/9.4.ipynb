{
 "cells": [
  {
   "attachments": {},
   "cell_type": "markdown",
   "metadata": {},
   "source": [
    "9.4 Efficient numberical method for a regularized least-squares problem\n",
    "\n",
    "minimize $\\Vert Ax-b\\Vert_2^2+\\delta\\Vert x_{1:}-x_{:-1}\\Vert_2^2+\\eta\\Vert x\\Vert_2^2$\n",
    "\n",
    "This objective is convex in x. Set the derivative equal to zero.\n",
    "\n",
    "$(A^TA+\\delta\\text{tridiag}+\\eta)x=A^Tb$, where the tridiag matrix is shown below.\n",
    "\n",
    "When $A\\in\\mathbb{R}^{k\\times n},k<<n$ The structure can be exploited by Woodbury matrix identity https://en.wikipedia.org/wiki/Woodbury_matrix_identity\n",
    "$(A + UCV)^{-1} = A^{-1} - A^{-1} U (C^{-1} + VA^{-1}U)^{-1} VA^{-1}$.\n",
    "\n"
   ]
  },
  {
   "cell_type": "code",
   "execution_count": 3,
   "metadata": {},
   "outputs": [
    {
     "name": "stdout",
     "output_type": "stream",
     "text": [
      "[[ 1. -1.  0.  0.  0.]\n",
      " [-1.  2. -1.  0.  0.]\n",
      " [ 0. -1.  2. -1.  0.]\n",
      " [ 0.  0. -1.  2. -1.]\n",
      " [ 0.  0.  0. -1.  1.]]\n"
     ]
    }
   ],
   "source": [
    "import numpy as np\n",
    "\n",
    "def create_tridiagonal_matrix(n):\n",
    "    # Create a tridiagonal matrix of size n x n\n",
    "    matrix = np.zeros((n, n))\n",
    "\n",
    "    # Set the main diagonal (values: 2)\n",
    "    np.fill_diagonal(matrix, 2)\n",
    "\n",
    "    # Set the upper diagonal (values: -1)\n",
    "    np.fill_diagonal(matrix[1:], -1)\n",
    "\n",
    "    # Set the lower diagonal (values: -1)\n",
    "    np.fill_diagonal(matrix[:, 1:], -1)\n",
    "\n",
    "    matrix[0,0] = 1\n",
    "    matrix[-1,-1] = 1\n",
    "\n",
    "    return matrix\n",
    "\n",
    "# Specify the size of the tridiagonal matrix (number of rows and columns)\n",
    "n = 5\n",
    "\n",
    "# Create the tridiagonal matrix\n",
    "tridiagonal_matrix = create_tridiagonal_matrix(n)\n",
    "\n",
    "print(tridiagonal_matrix)\n"
   ]
  }
 ],
 "metadata": {
  "kernelspec": {
   "display_name": "Python 3.9.6 64-bit",
   "language": "python",
   "name": "python3"
  },
  "language_info": {
   "codemirror_mode": {
    "name": "ipython",
    "version": 3
   },
   "file_extension": ".py",
   "mimetype": "text/x-python",
   "name": "python",
   "nbconvert_exporter": "python",
   "pygments_lexer": "ipython3",
   "version": "3.10.9"
  },
  "orig_nbformat": 4,
  "vscode": {
   "interpreter": {
    "hash": "31f2aee4e71d21fbe5cf8b01ff0e069b9275f58929596ceb00d14d90e3e16cd6"
   }
  }
 },
 "nbformat": 4,
 "nbformat_minor": 2
}
