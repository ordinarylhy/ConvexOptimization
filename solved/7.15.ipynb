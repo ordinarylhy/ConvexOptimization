{
 "cells": [
  {
   "attachments": {},
   "cell_type": "markdown",
   "metadata": {},
   "source": [
    "7.15 Miminum possible maximum correlation"
   ]
  },
  {
   "cell_type": "code",
   "execution_count": 1,
   "metadata": {},
   "outputs": [],
   "source": [
    "import numpy as np\n",
    "import cvxpy as cp\n",
    "from matplotlib import pyplot as plt"
   ]
  },
  {
   "cell_type": "code",
   "execution_count": 4,
   "metadata": {},
   "outputs": [],
   "source": [
    "m = 10 # number of linear functions with known variance\n",
    "n = 5 # length of the random vector Z\n",
    "A = np.array([\n",
    "    [-1.4401 , -0.2568 , -0.4253 ,  0.3839 , -0.3007 ,  0.3794 ,  1.7744 ,  0.3712 ,  0.3996 ,  1.2323] ,\n",
    "    [-0.1747 , -0.8338 ,  2.7900 ,  0.3703 ,  0.8218 ,  0.0185 , -0.7323 ,  1.0773 ,  0.9564 , -0.7745] ,\n",
    "    [-0.5972 , -0.1770 ,  1.2684 ,  1.0716 ,  1.5609 , -0.9204 , -1.5823 ,  0.5888 ,  0.9646 , -0.6642] ,\n",
    "    [-1.0254 ,  0.2775 ,  0.6665 , -0.2695 , -0.8905 , -1.3962 , -0.4194 ,  1.5121 , -0.5088 , -2.0358] ,\n",
    "    [-1.5929 , -0.3059 ,  0.9112 , -0.5246 ,  0.2679 ,  0.0038 ,  0.7488 ,  0.8160 , -1.3199 ,  0.6035]])\n",
    "sigma = np.array([ 4.6542 ,  1.2522 ,  4.5739 ,  1.4898 ,  0.9448 ,  1.5184 ,  1.9903 ,  3.8886 ,  1.5138 ,  2.4334])"
   ]
  },
  {
   "cell_type": "code",
   "execution_count": 66,
   "metadata": {},
   "outputs": [],
   "source": [
    "def covariance_to_correlation(covariance_matrix):\n",
    "    # Calculate the standard deviations of the variables\n",
    "    std_deviations = np.sqrt(np.diag(covariance_matrix))\n",
    "    \n",
    "    # Calculate the correlation matrix\n",
    "    correlation_matrix = covariance_matrix / np.outer(std_deviations, std_deviations)\n",
    "    \n",
    "    return correlation_matrix\n",
    "def max_nondiagonal_element(matrix):\n",
    "    rows, cols = matrix.shape\n",
    "    max_nondiag = None\n",
    "\n",
    "    for i in range(rows):\n",
    "        for j in range(cols):\n",
    "            if i != j:  # Exclude diagonal elements\n",
    "                element = matrix[i, j]\n",
    "                if max_nondiag is None or element > max_nondiag:\n",
    "                    max_nondiag = element\n",
    "\n",
    "    return max_nondiag"
   ]
  },
  {
   "cell_type": "code",
   "execution_count": 69,
   "metadata": {},
   "outputs": [
    {
     "name": "stdout",
     "output_type": "stream",
     "text": [
      "rho^{max}: 0.62\n",
      "[[ 1.          0.09183525  0.62184127  0.62186704  0.18998261]\n",
      " [ 0.09183525  1.         -0.6219448   0.62182058  0.07759998]\n",
      " [ 0.62184127 -0.6219448   1.          0.06295419  0.34451391]\n",
      " [ 0.62186704  0.62182058  0.06295419  1.          0.62157776]\n",
      " [ 0.18998261  0.07759998  0.34451391  0.62157776  1.        ]]\n",
      "0.621944795403213\n"
     ]
    }
   ],
   "source": [
    "Sigma = cp.Variable((n,n), PSD=True)\n",
    "l = 0 \n",
    "u = 1\n",
    "epsilon = 1e-3\n",
    "while u - l >= epsilon:\n",
    "    t = (l + u) / 2  # bisection method\n",
    "    objective = cp.Minimize(0)\n",
    "    constraints = [cp.vstack([cp.quad_form(a, Sigma) for a in A.T]) == cp.vstack(sigma ** 2)]\n",
    "    for i in range(n-1):\n",
    "        for j in range(i+1,n):\n",
    "            constraints += [cp.abs(Sigma[i,j]) - t * cp.geo_mean(cp.vstack([Sigma[i,i], Sigma[j,j]])) <= 0]\n",
    "    prob = cp.Problem(objective, constraints)\n",
    "    prob.solve()\n",
    "    if prob.status == cp.OPTIMAL or prob.status == cp.OPTIMAL_INACCURATE: \n",
    "        u = t  # minimize t\n",
    "    else:\n",
    "        l = t\n",
    "print('rho^{max}:', np.round(t,2))\n",
    "print(covariance_to_correlation(Sigma.value))\n",
    "print(max_nondiagonal_element(np.abs(covariance_to_correlation(Sigma.value))))"
   ]
  },
  {
   "cell_type": "code",
   "execution_count": 63,
   "metadata": {},
   "outputs": [
    {
     "name": "stderr",
     "output_type": "stream",
     "text": [
      "/Users/homefolder/miniconda3/lib/python3.10/site-packages/cvxpy/problems/problem.py:1385: UserWarning: Solution may be inaccurate. Try another solver, adjusting the solver settings, or solve with verbose=True for more information.\n",
      "  warnings.warn(\n",
      "/Users/homefolder/miniconda3/lib/python3.10/site-packages/cvxpy/problems/problem.py:1385: UserWarning: Solution may be inaccurate. Try another solver, adjusting the solver settings, or solve with verbose=True for more information.\n",
      "  warnings.warn(\n",
      "/Users/homefolder/miniconda3/lib/python3.10/site-packages/cvxpy/problems/problem.py:1385: UserWarning: Solution may be inaccurate. Try another solver, adjusting the solver settings, or solve with verbose=True for more information.\n",
      "  warnings.warn(\n",
      "/Users/homefolder/miniconda3/lib/python3.10/site-packages/cvxpy/problems/problem.py:1385: UserWarning: Solution may be inaccurate. Try another solver, adjusting the solver settings, or solve with verbose=True for more information.\n",
      "  warnings.warn(\n",
      "/Users/homefolder/miniconda3/lib/python3.10/site-packages/cvxpy/problems/problem.py:1385: UserWarning: Solution may be inaccurate. Try another solver, adjusting the solver settings, or solve with verbose=True for more information.\n",
      "  warnings.warn(\n",
      "/Users/homefolder/miniconda3/lib/python3.10/site-packages/cvxpy/problems/problem.py:1385: UserWarning: Solution may be inaccurate. Try another solver, adjusting the solver settings, or solve with verbose=True for more information.\n",
      "  warnings.warn(\n",
      "/Users/homefolder/miniconda3/lib/python3.10/site-packages/cvxpy/problems/problem.py:1385: UserWarning: Solution may be inaccurate. Try another solver, adjusting the solver settings, or solve with verbose=True for more information.\n",
      "  warnings.warn(\n",
      "/Users/homefolder/miniconda3/lib/python3.10/site-packages/cvxpy/problems/problem.py:1385: UserWarning: Solution may be inaccurate. Try another solver, adjusting the solver settings, or solve with verbose=True for more information.\n",
      "  warnings.warn(\n",
      "/Users/homefolder/miniconda3/lib/python3.10/site-packages/cvxpy/problems/problem.py:1385: UserWarning: Solution may be inaccurate. Try another solver, adjusting the solver settings, or solve with verbose=True for more information.\n",
      "  warnings.warn(\n",
      "/Users/homefolder/miniconda3/lib/python3.10/site-packages/cvxpy/problems/problem.py:1385: UserWarning: Solution may be inaccurate. Try another solver, adjusting the solver settings, or solve with verbose=True for more information.\n",
      "  warnings.warn(\n"
     ]
    }
   ],
   "source": [
    "#  Disciplined Quasiconvex Programming\n",
    "Sigma = cp.Variable((n,n), PSD=True)\n",
    "objectives = []\n",
    "for i in range(n-1):\n",
    "    for j in range(i+1,n):\n",
    "            objectives += [cp.abs(Sigma[i,j]) / cp.geo_mean(cp.vstack([Sigma[i,i], Sigma[j,j]]))]\n",
    "objective = cp.Minimize(cp.maximum(*objectives))\n",
    "constraints = [cp.vstack([cp.quad_form(a, Sigma) for a in A.T]) == cp.vstack(sigma ** 2)]\n",
    "problem = cp.Problem(objective, constraints)\n",
    "problem.solve(qcp=True)\n",
    "assert problem.is_dqcp()"
   ]
  },
  {
   "cell_type": "code",
   "execution_count": 67,
   "metadata": {},
   "outputs": [
    {
     "name": "stdout",
     "output_type": "stream",
     "text": [
      "rho^{max}: 0.62\n",
      "[[ 1.          0.09195438  0.62171754  0.62220674  0.19250262]\n",
      " [ 0.09195438  1.         -0.62182403  0.62201738  0.07592708]\n",
      " [ 0.62171754 -0.62182403  1.          0.06288648  0.34520443]\n",
      " [ 0.62220674  0.62201738  0.06288648  1.          0.62330503]\n",
      " [ 0.19250262  0.07592708  0.34520443  0.62330503  1.        ]]\n",
      "0.6233050275521628\n"
     ]
    }
   ],
   "source": [
    "print('rho^{max}:', np.round(objective.value,2))\n",
    "print(covariance_to_correlation(Sigma.value))\n",
    "print(max_nondiagonal_element(np.abs(covariance_to_correlation(Sigma.value))))"
   ]
  }
 ],
 "metadata": {
  "kernelspec": {
   "display_name": "Python 3.9.6 64-bit",
   "language": "python",
   "name": "python3"
  },
  "language_info": {
   "codemirror_mode": {
    "name": "ipython",
    "version": 3
   },
   "file_extension": ".py",
   "mimetype": "text/x-python",
   "name": "python",
   "nbconvert_exporter": "python",
   "pygments_lexer": "ipython3",
   "version": "3.10.9"
  },
  "orig_nbformat": 4,
  "vscode": {
   "interpreter": {
    "hash": "31f2aee4e71d21fbe5cf8b01ff0e069b9275f58929596ceb00d14d90e3e16cd6"
   }
  }
 },
 "nbformat": 4,
 "nbformat_minor": 2
}
