{
 "cells": [
  {
   "attachments": {},
   "cell_type": "markdown",
   "metadata": {},
   "source": [
    "17.30 Currency exchange"
   ]
  },
  {
   "cell_type": "code",
   "execution_count": 1,
   "metadata": {},
   "outputs": [],
   "source": [
    "import numpy as np\n",
    "import cvxpy as cp\n",
    "from matplotlib import pyplot as plt"
   ]
  },
  {
   "cell_type": "code",
   "execution_count": 2,
   "metadata": {},
   "outputs": [],
   "source": [
    "# Exchange rate data.\n",
    "tickers = [\"USD\", \"EUR\", \"GBP\", \"CAD\", \"JPY\", \"CNY\", \"RUB\", \"MXN\", \"INR\", \"BRL\"]\n",
    "n = len(tickers)\n",
    "F = np.zeros((n, n))\n",
    "# USD\n",
    "data = ([1.0, 0.87, 0.76, 1.31, 108.90, 6.72, 65.45, 19.11, 71.13, 3.69],\n",
    "# EUR\n",
    "[1.0, 0.88, 1.51, 125.15, 7.72, 75.23, 21.96, 81.85, 4.24],\n",
    "# GBP\n",
    "[1.0, 1.72, 142.94, 8.82, 85.90, 25.08, 93.50, 4.84],\n",
    "# CAD\n",
    "[1.0, 82.93, 5.11, 49.82, 14.54, 54.23, 2.81],\n",
    "# JPY\n",
    "[1.0, 0.062, 0.60, 0.18, 0.65, 0.034],\n",
    "# CNY\n",
    "[1.0, 9.74, 2.85, 10.61, 0.55],\n",
    "# RUB\n",
    "[1.0, 0.29, 1.09, 0.056],\n",
    "# MXN\n",
    "[1.0, 3.73, 0.19],\n",
    "# INR\n",
    "[1.0, 0.052],\n",
    "# BRL\n",
    "[1.0])\n",
    "for i in range(n):\n",
    "    F[i,i:] = data[i]\n",
    "for j in range(n):\n",
    "    for i in range(j+1,n):\n",
    "        F[i,j] = 1.035/F[j,i]\n",
    "        \n",
    "# Initial and final portfolios.\n",
    "c_req = np.arange(1,n+1)\n",
    "c_req = 1e4*c_req/c_req.sum()\n",
    "c_init = c_req[::-1]"
   ]
  },
  {
   "cell_type": "code",
   "execution_count": 29,
   "metadata": {},
   "outputs": [
    {
     "name": "stdout",
     "output_type": "stream",
     "text": [
      "minimum cost: 7.720059340058039\n"
     ]
    }
   ],
   "source": [
    "X = cp.Variable((n,n), nonneg=True)\n",
    "objective = cp.Minimize((cp.sum(X, axis=0) - cp.sum(cp.multiply(1 / F, X), axis=1)) @ np.sqrt(F[:,0] / F[0,:]))\n",
    "constraints = [\n",
    "    cp.diag(X) == 0,\n",
    "    cp.sum(X, axis=0) <= c_init,\n",
    "    c_init - cp.sum(X, axis=0) + cp.sum(cp.multiply(1 / F,  X), axis=1) >= c_req\n",
    "]\n",
    "prob = cp.Problem(objective, constraints)\n",
    "result = prob.solve()\n",
    "print('minimum cost:', objective.value)"
   ]
  }
 ],
 "metadata": {
  "kernelspec": {
   "display_name": "Python 3.9.6 64-bit",
   "language": "python",
   "name": "python3"
  },
  "language_info": {
   "codemirror_mode": {
    "name": "ipython",
    "version": 3
   },
   "file_extension": ".py",
   "mimetype": "text/x-python",
   "name": "python",
   "nbconvert_exporter": "python",
   "pygments_lexer": "ipython3",
   "version": "3.10.9"
  },
  "orig_nbformat": 4,
  "vscode": {
   "interpreter": {
    "hash": "31f2aee4e71d21fbe5cf8b01ff0e069b9275f58929596ceb00d14d90e3e16cd6"
   }
  }
 },
 "nbformat": 4,
 "nbformat_minor": 2
}
