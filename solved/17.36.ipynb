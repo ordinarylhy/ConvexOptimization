{
 "cells": [
  {
   "attachments": {},
   "cell_type": "markdown",
   "metadata": {},
   "source": [
    "17.36 Portfolio optimization with buy/hold/sell recommendations"
   ]
  },
  {
   "cell_type": "code",
   "execution_count": 1,
   "metadata": {},
   "outputs": [],
   "source": [
    "import numpy as np\n",
    "import cvxpy as cp\n",
    "from matplotlib import pyplot as plt"
   ]
  },
  {
   "cell_type": "code",
   "execution_count": 2,
   "metadata": {},
   "outputs": [],
   "source": [
    "m = 30\n",
    "n = 20\n",
    "nb = 6\n",
    "nh = 7\n",
    "ns = 7\n",
    "L = 2\n",
    "sigma = .1\n",
    "np.random.seed(1)\n",
    "A = 0.06*np.random.normal(0, 1, size=(m, n))\n",
    "Sigma = A.T@A"
   ]
  },
  {
   "cell_type": "code",
   "execution_count": 12,
   "metadata": {},
   "outputs": [
    {
     "name": "stdout",
     "output_type": "stream",
     "text": [
      "optimal: [ 2.46546726e-01  2.46848541e-01  1.30793121e-01  2.31212112e-01\n",
      "  1.63920697e-01  1.11579129e-01  8.93657387e-10  2.54955372e-02\n",
      "  1.15036327e-01 -2.09889640e-02  7.39707892e-10  9.89497660e-10\n",
      " -3.89079793e-10 -1.69778536e-01 -3.09376139e-09 -5.44390019e-10\n",
      " -2.42764877e-02 -1.46287557e-10 -5.47165085e-10 -5.63882015e-02]\n",
      "R^{wc}(w^*): 1.2198227254209728\n",
      "\\mu^{wc}: [1, 1, 1, 1, 1, 1, -1, -1, -1, 1, -1, -1, 1, -1, -1, -1, -1, -1, -1, -1]\n"
     ]
    }
   ],
   "source": [
    "w = cp.Variable(n)\n",
    "objective = cp.Maximize(cp.sum(w[:nb]) - cp.norm(w[nb:-ns], 1) - cp.sum(w[-ns:]))\n",
    "constraints = [\n",
    "    cp.sum(w) == 1, \n",
    "    cp.norm(w, 1) <= L, \n",
    "    cp.quad_form(w, Sigma) <= sigma ** 2,\n",
    "    w[:nb] >= 0,\n",
    "    w[-ns:] <= 0\n",
    "]\n",
    "prob = cp.Problem(objective, constraints)\n",
    "result = prob.solve()\n",
    "w_opt = w.value\n",
    "print('optimal:', w_opt)\n",
    "print('R^{wc}(w^*):', objective.value)\n",
    "print('\\mu^{wc}:', [1] * nb + list(np.where(w_opt[nb:-ns]>0, -1, 1)) + [-1] * ns) # Convert True to -1 False to 1 using numpy.where"
   ]
  },
  {
   "cell_type": "code",
   "execution_count": 7,
   "metadata": {},
   "outputs": [
    {
     "name": "stdout",
     "output_type": "stream",
     "text": [
      "[ 2.57988795e-01  2.84433494e-01  1.26956711e-01  2.73097995e-01\n",
      "  1.57354653e-01  1.32537559e-01  3.92054471e-02  3.35990910e-02\n",
      "  1.01733628e-01 -9.02466121e-02  2.42503918e-02  3.74675624e-10\n",
      " -1.88545734e-02 -2.13452945e-01 -7.07406026e-10  3.12196010e-10\n",
      " -5.55812961e-02  6.88422306e-02  5.57701735e-10 -1.21864569e-01]\n",
      "1.5544257857756039\n"
     ]
    }
   ],
   "source": [
    "# naive method\n",
    "w = cp.Variable(n)\n",
    "objective = cp.Maximize(w.T @ np.array([1] * nb + [0] * nh + [-1] * ns))\n",
    "constraints = [\n",
    "    cp.sum(w) == 1, \n",
    "    cp.norm(w, 1) <= L, \n",
    "    cp.quad_form(w, Sigma) <= sigma ** 2,\n",
    "]\n",
    "prob = cp.Problem(objective, constraints)\n",
    "result = prob.solve()\n",
    "w_naive = w.value\n",
    "print(w_naive)\n",
    "print(objective.value) # R^{wc}(w^{naive})"
   ]
  }
 ],
 "metadata": {
  "kernelspec": {
   "display_name": "Python 3.9.6 64-bit",
   "language": "python",
   "name": "python3"
  },
  "language_info": {
   "codemirror_mode": {
    "name": "ipython",
    "version": 3
   },
   "file_extension": ".py",
   "mimetype": "text/x-python",
   "name": "python",
   "nbconvert_exporter": "python",
   "pygments_lexer": "ipython3",
   "version": "3.10.9"
  },
  "orig_nbformat": 4,
  "vscode": {
   "interpreter": {
    "hash": "31f2aee4e71d21fbe5cf8b01ff0e069b9275f58929596ceb00d14d90e3e16cd6"
   }
  }
 },
 "nbformat": 4,
 "nbformat_minor": 2
}
