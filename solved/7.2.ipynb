{
 "cells": [
  {
   "attachments": {},
   "cell_type": "markdown",
   "metadata": {},
   "source": [
    "7.2 Mean and covariance estimation with conditional independence constraints\n",
    "\n",
    "$X\\sim\\mathcal{N}(\\mu,\\Sigma)$\n",
    "\n",
    "Let $J=\\Sigma^{-1}$ be the precision matrix, $h=J\\mu$ be the potential vector.\n",
    "\n",
    "then $x_i\\perp x_j | X\\backslash\\{x_i,x_j\\}\\Leftrightarrow J_{ij}=0$\n",
    "\n",
    "MLE: $\\frac{N}{2}\\log\\det J +\\frac{1}{2}\\sum_i-x_i^TJx_i+2x_i^Th-h^TJ^{-1}h $"
   ]
  }
 ],
 "metadata": {
  "kernelspec": {
   "display_name": "Python 3.9.6 64-bit",
   "language": "python",
   "name": "python3"
  },
  "language_info": {
   "codemirror_mode": {
    "name": "ipython",
    "version": 3
   },
   "file_extension": ".py",
   "mimetype": "text/x-python",
   "name": "python",
   "nbconvert_exporter": "python",
   "pygments_lexer": "ipython3",
   "version": "3.10.9"
  },
  "orig_nbformat": 4,
  "vscode": {
   "interpreter": {
    "hash": "31f2aee4e71d21fbe5cf8b01ff0e069b9275f58929596ceb00d14d90e3e16cd6"
   }
  }
 },
 "nbformat": 4,
 "nbformat_minor": 2
}
