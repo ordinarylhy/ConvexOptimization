{
 "cells": [
  {
   "attachments": {},
   "cell_type": "markdown",
   "metadata": {},
   "source": [
    "17.31 Minimizing tax liability"
   ]
  },
  {
   "cell_type": "code",
   "execution_count": 1,
   "metadata": {},
   "outputs": [],
   "source": [
    "import numpy as np\n",
    "import cvxpy as cp\n",
    "from matplotlib import pyplot as plt"
   ]
  },
  {
   "cell_type": "code",
   "execution_count": 10,
   "metadata": {},
   "outputs": [],
   "source": [
    "C = 2300\n",
    "n = 10\n",
    "b = np.array([400,80,400,200,400,400,80,400,100,500])\n",
    "v = np.array([500,100,500,200,700,300,120,300,150,600])\n",
    "L = 4\n",
    "rho_l = 0.2\n",
    "rho_s = 0.3"
   ]
  },
  {
   "cell_type": "code",
   "execution_count": 6,
   "metadata": {},
   "outputs": [
    {
     "name": "stdout",
     "output_type": "stream",
     "text": [
      "None\n"
     ]
    }
   ],
   "source": [
    "# check if it is possible that the net gain is negative\n",
    "s = cp.Variable(n, nonneg=True)\n",
    "objective = cp.Minimize(0)\n",
    "constraints = [\n",
    "    s <= v,\n",
    "    cp.sum(s) == C,\n",
    "    cp.sum(cp.multiply(s, (v - b) / v)) <= 0\n",
    "]\n",
    "prob = cp.Problem(objective, constraints)\n",
    "result = prob.solve()\n",
    "print(s.value)"
   ]
  },
  {
   "cell_type": "code",
   "execution_count": 27,
   "metadata": {},
   "outputs": [
    {
     "name": "stdout",
     "output_type": "stream",
     "text": [
      "78.00000002045641\n"
     ]
    }
   ],
   "source": [
    "# assume long term loss\n",
    "s = cp.Variable(n, nonneg=True)\n",
    "objective = cp.Minimize(rho_s * (cp.sum(cp.multiply(s, (v - b) / v)[L:]) - cp.sum(cp.multiply(s, (v - b) / v)[:L])))\n",
    "constraints = [\n",
    "    s <= v,\n",
    "    cp.sum(s) == C,\n",
    "    cp.sum(cp.multiply(s, (v - b) / v)[:L]) <= 0\n",
    "]\n",
    "prob = cp.Problem(objective, constraints)\n",
    "result = prob.solve()\n",
    "print(objective.value)"
   ]
  },
  {
   "cell_type": "code",
   "execution_count": 28,
   "metadata": {},
   "outputs": [
    {
     "name": "stdout",
     "output_type": "stream",
     "text": [
      "24.266666667008604\n"
     ]
    }
   ],
   "source": [
    "# assume short term loss\n",
    "s = cp.Variable(n, nonneg=True)\n",
    "objective = cp.Minimize(rho_l * (cp.sum(cp.multiply(s, (v - b) / v)[:L]) - cp.sum(cp.multiply(s, (v - b) / v)[L:])))\n",
    "constraints = [\n",
    "    s <= v,\n",
    "    cp.sum(s) == C,\n",
    "    cp.sum(cp.multiply(s, (v - b) / v)[L:]) <= 0\n",
    "]\n",
    "prob = cp.Problem(objective, constraints)\n",
    "result = prob.solve()\n",
    "print(objective.value)\n",
    "s_opt = s.value\n",
    "min_tax = objective.value"
   ]
  },
  {
   "cell_type": "code",
   "execution_count": 26,
   "metadata": {},
   "outputs": [
    {
     "name": "stdout",
     "output_type": "stream",
     "text": [
      "24.266666684548063\n"
     ]
    }
   ],
   "source": [
    "# assume no short / long term loss\n",
    "s = cp.Variable(n, nonneg=True)\n",
    "objective = cp.Minimize(rho_l * (cp.sum(cp.multiply(s, (v - b) / v)[:L])) + rho_s * cp.sum(cp.multiply(s, (v - b) / v)[L:]))\n",
    "constraints = [\n",
    "    s <= v,\n",
    "    cp.sum(s) == C,\n",
    "    cp.sum(cp.multiply(s, (v - b) / v)[L:]) >= 0,\n",
    "    cp.sum(cp.multiply(s, (v - b) / v)[:L]) >= 0,\n",
    "]\n",
    "prob = cp.Problem(objective, constraints)\n",
    "result = prob.solve()\n",
    "print(objective.value)"
   ]
  },
  {
   "cell_type": "code",
   "execution_count": 29,
   "metadata": {},
   "outputs": [
    {
     "name": "stdout",
     "output_type": "stream",
     "text": [
      "True True\n"
     ]
    }
   ],
   "source": [
    "s_proportion = C / np.sum(v) * v\n",
    "N_l_proportion = np.sum(np.multiply(s_proportion, (v - b) / v)[:L])\n",
    "N_s_proportion = np.sum(np.multiply(s_proportion, (v - b) / v)[L:])\n",
    "print(N_l_proportion>0, N_s_proportion>0)"
   ]
  },
  {
   "cell_type": "code",
   "execution_count": 30,
   "metadata": {},
   "outputs": [
    {
     "name": "stdout",
     "output_type": "stream",
     "text": [
      "optimal sell: [269.84057316  66.98552035 269.84057316 200.          23.33333334\n",
      " 300.         119.99999999 300.         150.         600.        ]\n",
      "minimum tax liability: 24.266666667008604\n",
      "tax liability for proportional sell: 86.82997118155619\n"
     ]
    }
   ],
   "source": [
    "print('optimal sell:', s_opt)\n",
    "print('minimum tax liability:', min_tax)\n",
    "print('tax liability for proportional sell:', N_l_proportion * rho_l + N_s_proportion * rho_s)"
   ]
  }
 ],
 "metadata": {
  "kernelspec": {
   "display_name": "Python 3.9.6 64-bit",
   "language": "python",
   "name": "python3"
  },
  "language_info": {
   "codemirror_mode": {
    "name": "ipython",
    "version": 3
   },
   "file_extension": ".py",
   "mimetype": "text/x-python",
   "name": "python",
   "nbconvert_exporter": "python",
   "pygments_lexer": "ipython3",
   "version": "3.10.9"
  },
  "orig_nbformat": 4,
  "vscode": {
   "interpreter": {
    "hash": "31f2aee4e71d21fbe5cf8b01ff0e069b9275f58929596ceb00d14d90e3e16cd6"
   }
  }
 },
 "nbformat": 4,
 "nbformat_minor": 2
}
