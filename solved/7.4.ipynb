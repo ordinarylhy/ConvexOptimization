{
 "cells": [
  {
   "attachments": {},
   "cell_type": "markdown",
   "metadata": {},
   "source": [
    "7.4 Maximum likelihood prediction of team ability"
   ]
  },
  {
   "cell_type": "code",
   "execution_count": 5,
   "metadata": {},
   "outputs": [],
   "source": [
    "import numpy as np\n",
    "import cvxpy as cp"
   ]
  },
  {
   "cell_type": "code",
   "execution_count": 6,
   "metadata": {},
   "outputs": [],
   "source": [
    "n = 10\n",
    "m = 45\n",
    "m_test = 45\n",
    "sigma= 0.250"
   ]
  },
  {
   "cell_type": "code",
   "execution_count": 7,
   "metadata": {},
   "outputs": [],
   "source": [
    "train = np.array([[ 1,  2,  1],\n",
    "       [ 1,  3,  1],\n",
    "       [ 1,  4,  1],\n",
    "       [ 1,  5,  1],\n",
    "       [ 1,  6,  1],\n",
    "       [ 1,  7,  1],\n",
    "       [ 1,  8,  1],\n",
    "       [ 1,  9,  1],\n",
    "       [ 1, 10,  1],\n",
    "       [ 2,  3, -1],\n",
    "       [ 2,  4, -1],\n",
    "       [ 2,  5, -1],\n",
    "       [ 2,  6, -1],\n",
    "       [ 2,  7, -1],\n",
    "       [ 2,  8, -1],\n",
    "       [ 2,  9, -1],\n",
    "       [ 2, 10, -1],\n",
    "       [ 3,  4,  1],\n",
    "       [ 3,  5, -1],\n",
    "       [ 3,  6, -1],\n",
    "       [ 3,  7,  1],\n",
    "       [ 3,  8,  1],\n",
    "       [ 3,  9,  1],\n",
    "       [ 3, 10,  1],\n",
    "       [ 4,  5, -1],\n",
    "       [ 4,  6, -1],\n",
    "       [ 4,  7,  1],\n",
    "       [ 4,  8,  1],\n",
    "       [ 4,  9, -1],\n",
    "       [ 4, 10, -1],\n",
    "       [ 5,  6,  1],\n",
    "       [ 5,  7,  1],\n",
    "       [ 5,  8,  1],\n",
    "       [ 5,  9, -1],\n",
    "       [ 5, 10,  1],\n",
    "       [ 6,  7,  1],\n",
    "       [ 6,  8,  1],\n",
    "       [ 6,  9, -1],\n",
    "       [ 6, 10, -1],\n",
    "       [ 7,  8,  1],\n",
    "       [ 7,  9,  1],\n",
    "       [ 7, 10, -1],\n",
    "       [ 8,  9, -1],\n",
    "       [ 8, 10, -1],\n",
    "       [ 9, 10,  1]])\n",
    "\n",
    "test = np.array([[ 1,  2,  1],\n",
    "       [ 1,  3,  1],\n",
    "       [ 1,  4,  1],\n",
    "       [ 1,  5,  1],\n",
    "       [ 1,  6,  1],\n",
    "       [ 1,  7,  1],\n",
    "       [ 1,  8,  1],\n",
    "       [ 1,  9,  1],\n",
    "       [ 1, 10,  1],\n",
    "       [ 2,  3, -1],\n",
    "       [ 2,  4,  1],\n",
    "       [ 2,  5, -1],\n",
    "       [ 2,  6, -1],\n",
    "       [ 2,  7, -1],\n",
    "       [ 2,  8,  1],\n",
    "       [ 2,  9, -1],\n",
    "       [ 2, 10, -1],\n",
    "       [ 3,  4,  1],\n",
    "       [ 3,  5, -1],\n",
    "       [ 3,  6,  1],\n",
    "       [ 3,  7,  1],\n",
    "       [ 3,  8,  1],\n",
    "       [ 3,  9, -1],\n",
    "       [ 3, 10,  1],\n",
    "       [ 4,  5, -1],\n",
    "       [ 4,  6, -1],\n",
    "       [ 4,  7, -1],\n",
    "       [ 4,  8,  1],\n",
    "       [ 4,  9, -1],\n",
    "       [ 4, 10, -1],\n",
    "       [ 5,  6, -1],\n",
    "       [ 5,  7,  1],\n",
    "       [ 5,  8,  1],\n",
    "       [ 5,  9,  1],\n",
    "       [ 5, 10,  1],\n",
    "       [ 6,  7,  1],\n",
    "       [ 6,  8,  1],\n",
    "       [ 6,  9,  1],\n",
    "       [ 6, 10,  1],\n",
    "       [ 7,  8,  1],\n",
    "       [ 7,  9, -1],\n",
    "       [ 7, 10,  1],\n",
    "       [ 8,  9, -1],\n",
    "       [ 8, 10, -1],\n",
    "       [ 9, 10,  1]])"
   ]
  },
  {
   "cell_type": "code",
   "execution_count": 14,
   "metadata": {},
   "outputs": [],
   "source": [
    "# form game incidence matrix A\n",
    "A = np.zeros((m,n))\n",
    "for i in range(len(train)):\n",
    "    if train[i,2] == 1:\n",
    "        A[i,train[i,0]-1], A[i,train[i,1]-1] = 1, -1 # -1 to match the index\n",
    "    else:\n",
    "        A[i,train[i,0]-1], A[i,train[i,1]-1] = -1, 1"
   ]
  },
  {
   "cell_type": "code",
   "execution_count": 16,
   "metadata": {},
   "outputs": [
    {
     "name": "stdout",
     "output_type": "stream",
     "text": [
      "[ 1.00000000e+00 -3.07024986e-21  6.78273774e-01  3.68704618e-01\n",
      "  7.90021663e-01  5.81306405e-01  3.87382448e-01  8.54414113e-02\n",
      "  6.70046253e-01  5.77486181e-01]\n"
     ]
    }
   ],
   "source": [
    "a = cp.Variable(n)\n",
    "# minimize the negative log likelihood\n",
    "neg_ll = - cp.sum(cp.log_normcdf(A @ a / sigma))\n",
    "objective = cp.Minimize(neg_ll)\n",
    "constraints = [0 <= a, a <= 1]\n",
    "prob = cp.Problem(objective, constraints)\n",
    "result = prob.solve()\n",
    "print(a.value)"
   ]
  },
  {
   "cell_type": "code",
   "execution_count": 26,
   "metadata": {},
   "outputs": [
    {
     "data": {
      "text/plain": [
       "0.8666666666666667"
      ]
     },
     "execution_count": 26,
     "metadata": {},
     "output_type": "execute_result"
    }
   ],
   "source": [
    "a_hat = a.value # estimate of team abilities\n",
    "pred = np.sign(a_hat[test[:,0]-1] - a_hat[test[:,1]-1]) # prediction by MLE\n",
    "np.sum(pred == test[:,2]) / m # the percentage of correctly predicted outcomes using MLE"
   ]
  },
  {
   "cell_type": "code",
   "execution_count": 27,
   "metadata": {},
   "outputs": [
    {
     "data": {
      "text/plain": [
       "0.7555555555555555"
      ]
     },
     "execution_count": 27,
     "metadata": {},
     "output_type": "execute_result"
    }
   ],
   "source": [
    "np.sum(train[:,2] == test[:,2]) / m # the percentage of correctly predicted outcomes using the simple method"
   ]
  }
 ],
 "metadata": {
  "kernelspec": {
   "display_name": "Python 3.9.6 64-bit",
   "language": "python",
   "name": "python3"
  },
  "language_info": {
   "codemirror_mode": {
    "name": "ipython",
    "version": 3
   },
   "file_extension": ".py",
   "mimetype": "text/x-python",
   "name": "python",
   "nbconvert_exporter": "python",
   "pygments_lexer": "ipython3",
   "version": "3.10.9"
  },
  "orig_nbformat": 4,
  "vscode": {
   "interpreter": {
    "hash": "31f2aee4e71d21fbe5cf8b01ff0e069b9275f58929596ceb00d14d90e3e16cd6"
   }
  }
 },
 "nbformat": 4,
 "nbformat_minor": 2
}
