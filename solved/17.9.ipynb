{
 "cells": [
  {
   "attachments": {},
   "cell_type": "markdown",
   "metadata": {},
   "source": [
    "17.9 Maximizing house profit in a gamble and imputed probabilities\n",
    "\n",
    "Primal problem:\n",
    "\n",
    "minimize $t-p^Tx$,\n",
    "subject to $Sx\\leq t, 0\\leq x\\leq q$ \n",
    "\n",
    "here $S_{ij}=1$ iff outcome i is in participant j's set $S_j$\n",
    "\n",
    "Lagrangian: $L(x,\\lambda) = t-p^Tx+\\lambda_1^T(Sx-t1)-\\lambda_2^Tx+\\lambda_3^T(x-q)$\n",
    "\n",
    "Dual problem:\n",
    "\n",
    "maximize $-\\lambda_3^Tq$,\n",
    "subject to $\\lambda\\geq 0, 1-\\lambda_1^T1=0,\\lambda_3=p+\\lambda_2-S^T\\lambda_1$\n",
    "\n",
    "Primal problem for the expected profit:\n",
    "\n",
    "minimize $(\\pi^TS-p^T)x$,\n",
    "subject to $0\\leq x\\leq q$\n",
    "\n",
    "Lagrangian: $L(x,\\lambda) = (\\pi^TS-p^T)x-\\lambda_2^Tx+\\lambda_3^T(x-q)$\n",
    "\n",
    "Dual problem for the expected profit:\n",
    "\n",
    "maximize $-\\lambda_3^Tq$,\n",
    "subject to $\\lambda\\geq 0, \\lambda_3=p+\\lambda_2-S^T\\pi$\n",
    "\n",
    "So $\\pi=\\lambda_1^*$ is a distribution for which $x^*$ maximizes the expected house profit and the optimal values are the same."
   ]
  },
  {
   "cell_type": "code",
   "execution_count": 1,
   "metadata": {},
   "outputs": [],
   "source": [
    "import numpy as np\n",
    "import cvxpy as cp\n",
    "from matplotlib import pyplot as plt"
   ]
  },
  {
   "cell_type": "code",
   "execution_count": 58,
   "metadata": {},
   "outputs": [
    {
     "data": {
      "text/plain": [
       "array([[1., 0., 1., 0., 0.],\n",
       "       [1., 0., 0., 1., 0.],\n",
       "       [0., 0., 0., 0., 1.],\n",
       "       [0., 1., 1., 0., 0.],\n",
       "       [0., 0., 1., 1., 0.]])"
      ]
     },
     "execution_count": 58,
     "metadata": {},
     "output_type": "execute_result"
    }
   ],
   "source": [
    "n = 5  # 5 participants\n",
    "m = 5  # 5 outcomes\n",
    "p = np.array([.5,.6,.6,.6,.2])\n",
    "q = np.array([10,5,5,20,10])\n",
    "Si = [[1,2],[4],[1,4,5],[2,5],[3]]\n",
    "S = np.zeros((m,n))\n",
    "for i in range(n):\n",
    "    for j in range(m):\n",
    "        if j+1 in Si[i]:\n",
    "            S[j][i] = 1\n",
    "S"
   ]
  },
  {
   "cell_type": "code",
   "execution_count": 64,
   "metadata": {},
   "outputs": [
    {
     "name": "stdout",
     "output_type": "stream",
     "text": [
      "optimal sell: [ 5.  5.  5.  5. 10.]\n",
      "optimal worst-case house profit: 3.499999996685668\n",
      "worst case house profit if all offers are accepted: -5.0\n",
      "imputed probabilities: [0.09699704 0.40300296 0.13155098 0.17145198 0.19699704]\n",
      "fair prices: [0.5        0.17145198 0.46544607 0.6        0.13155098]\n",
      "maximum expected profit for pi: 3.4999999902564696\n"
     ]
    }
   ],
   "source": [
    "x = cp.Variable(n, nonneg=True)\n",
    "t = cp.Variable()\n",
    "objective = cp.Maximize(p @ x - t)\n",
    "constraints = [\n",
    "    x <= q,\n",
    "    S @ x <= t]\n",
    "prob = cp.Problem(objective, constraints)\n",
    "result = prob.solve()\n",
    "print('optimal sell:', x.value)\n",
    "print('optimal worst-case house profit:', objective.value)\n",
    "print('worst case house profit if all offers are accepted:', p @ q - np.max(S @ q))\n",
    "pi = constraints[1].dual_value\n",
    "print('imputed probabilities:', pi)\n",
    "print('fair prices:', pi @ S)\n",
    "x = cp.Variable(n, nonneg=True)\n",
    "objective = cp.Maximize(p @ x - pi @ S @ x)\n",
    "constraints = [x <= q]\n",
    "prob = cp.Problem(objective, constraints)\n",
    "result = prob.solve()\n",
    "print('maximum expected profit for pi:', objective.value)"
   ]
  }
 ],
 "metadata": {
  "kernelspec": {
   "display_name": "Python 3.9.6 64-bit",
   "language": "python",
   "name": "python3"
  },
  "language_info": {
   "codemirror_mode": {
    "name": "ipython",
    "version": 3
   },
   "file_extension": ".py",
   "mimetype": "text/x-python",
   "name": "python",
   "nbconvert_exporter": "python",
   "pygments_lexer": "ipython3",
   "version": "3.10.9"
  },
  "orig_nbformat": 4,
  "vscode": {
   "interpreter": {
    "hash": "31f2aee4e71d21fbe5cf8b01ff0e069b9275f58929596ceb00d14d90e3e16cd6"
   }
  }
 },
 "nbformat": 4,
 "nbformat_minor": 2
}
