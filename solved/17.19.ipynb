{
 "cells": [
  {
   "attachments": {},
   "cell_type": "markdown",
   "metadata": {},
   "source": [
    "17.19 Worst-case variance"
   ]
  },
  {
   "cell_type": "code",
   "execution_count": 1,
   "metadata": {},
   "outputs": [],
   "source": [
    "import numpy as np\n",
    "import cvxpy as cp\n",
    "from matplotlib import pyplot as plt"
   ]
  },
  {
   "cell_type": "code",
   "execution_count": 2,
   "metadata": {},
   "outputs": [],
   "source": [
    "np.random.seed(2)\n",
    "n = 10\n",
    "Q, R = np.linalg.qr(np.random.rand(n, n))\n",
    "Sigma = Q.T @ np.diag(np.random.rand(n)) @ Q\n",
    "mu = np.random.randn(n, 1)\n",
    "\n",
    "R = 5\n",
    "R_wc = 10"
   ]
  },
  {
   "attachments": {},
   "cell_type": "markdown",
   "metadata": {},
   "source": [
    "$wcvar(Y)=\\sum_i c_i^2\\tilde{\\Sigma}_{ii} +\\sum_{i\\neq j}2c_ic_j\\tilde{\\Sigma}_{ij} \\leq\\sum_i c_i^2\\tilde{\\Sigma}_{ii}+\\sum_{i\\neq j}(c_i^2\\tilde{\\Sigma}_{ii}+c_j^2\\tilde{\\Sigma}_{jj})=n\\sum_i c_i^2\\tilde{\\Sigma}_{ii}$"
   ]
  },
  {
   "cell_type": "code",
   "execution_count": 38,
   "metadata": {},
   "outputs": [
    {
     "name": "stdout",
     "output_type": "stream",
     "text": [
      "expected return: 5.292876482871925\n",
      "worst-case risk: 9.999999993191176\n"
     ]
    }
   ],
   "source": [
    "x = cp.Variable(n)\n",
    "objective = cp.Maximize(mu.T @ x)\n",
    "constraints = [cp.sum(x) == 1, cp.quad_form(x, Sigma) <= R, n * cp.quad_form(x, np.diag(np.diag(Sigma)))<= R_wc]\n",
    "prob = cp.Problem(objective, constraints)\n",
    "result = prob.solve()\n",
    "print('expected return:', objective.value)\n",
    "print('worst-case risk:', n * np.diag(Sigma) @ (x.value ** 2))"
   ]
  },
  {
   "cell_type": "code",
   "execution_count": 39,
   "metadata": {},
   "outputs": [
    {
     "name": "stdout",
     "output_type": "stream",
     "text": [
      "expected return: 15.391843966237372\n",
      "worst-case risk: 118.92932682957968\n"
     ]
    }
   ],
   "source": [
    "# ignore the worst-case risk limit\n",
    "x = cp.Variable(n)\n",
    "objective = cp.Maximize(mu.T @ x)\n",
    "constraints = [cp.sum(x) == 1, cp.quad_form(x, Sigma) <= R]\n",
    "prob = cp.Problem(objective, constraints)\n",
    "result = prob.solve()\n",
    "print('expected return:', objective.value)\n",
    "print('worst-case risk:', n * np.diag(Sigma) @ (x.value ** 2))"
   ]
  }
 ],
 "metadata": {
  "kernelspec": {
   "display_name": "Python 3.9.6 64-bit",
   "language": "python",
   "name": "python3"
  },
  "language_info": {
   "codemirror_mode": {
    "name": "ipython",
    "version": 3
   },
   "file_extension": ".py",
   "mimetype": "text/x-python",
   "name": "python",
   "nbconvert_exporter": "python",
   "pygments_lexer": "ipython3",
   "version": "3.10.9"
  },
  "orig_nbformat": 4,
  "vscode": {
   "interpreter": {
    "hash": "31f2aee4e71d21fbe5cf8b01ff0e069b9275f58929596ceb00d14d90e3e16cd6"
   }
  }
 },
 "nbformat": 4,
 "nbformat_minor": 2
}
