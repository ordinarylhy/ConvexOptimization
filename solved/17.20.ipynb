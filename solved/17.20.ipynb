{
 "cells": [
  {
   "attachments": {},
   "cell_type": "markdown",
   "metadata": {},
   "source": [
    "17.20 Risk budget allocation"
   ]
  },
  {
   "cell_type": "code",
   "execution_count": 1,
   "metadata": {},
   "outputs": [],
   "source": [
    "import numpy as np\n",
    "import cvxpy as cp\n",
    "from matplotlib import pyplot as plt"
   ]
  },
  {
   "cell_type": "code",
   "execution_count": 4,
   "metadata": {},
   "outputs": [],
   "source": [
    "n = 4\n",
    "Sigma = np.array([[6.1 , 2.9 , -0.8 , 0.1],\n",
    "                [2.9 , 4.3 , -0.3 , 0.9],\n",
    "                [- 0.8 , -0.3 , 1.2 , -0.7],\n",
    "                [0.1 , 0.9 , -0.7 , 2.3]])\n",
    "rho_des = np.ones(n) / n"
   ]
  },
  {
   "attachments": {},
   "cell_type": "markdown",
   "metadata": {},
   "source": [
    "To achieve the desired risk contributions $\\rho^{des}$, we minimize $\\frac{1}{2}\\log(x^T\\Sigma x) - \\rho^{des} \\cdot\\log x$. Approximate $\\log(x^T\\Sigma x)$ by first-order Taylor series expansion log(x) ≈ log(a) + (x - a) / a\n"
   ]
  },
  {
   "cell_type": "code",
   "execution_count": 22,
   "metadata": {},
   "outputs": [
    {
     "name": "stdout",
     "output_type": "stream",
     "text": [
      "[0.13765298 0.11336244 0.47588265 0.27310194]\n",
      "$rho_0$: 0.24999995954238557\n",
      "$rho_1$: 0.24999990677596567\n",
      "$rho_2$: 0.2500001098122395\n",
      "$rho_3$: 0.2500000238694091\n"
     ]
    }
   ],
   "source": [
    "a = 1 # initial guess of risk\n",
    "for _ in range(100): # run for 100 iterations\n",
    "    x = cp.Variable(n, nonneg=True)\n",
    "    objective = cp.Minimize(cp.quad_form(x, Sigma) / a / 2 - rho_des.T @ cp.log(x))\n",
    "    constraints = [cp.sum(x) == 1]\n",
    "    prob = cp.Problem(objective, constraints)\n",
    "    result = prob.solve()\n",
    "    a = x.value @ Sigma @ x.value\n",
    "x_riskparity = x.value\n",
    "print(x_riskparity)\n",
    "for i in range(n):\n",
    "    print(f'$rho_{i}$:', (x_riskparity[i] * (Sigma @ x_riskparity)[i]) / (x_riskparity \n",
    "        @ Sigma @ x_riskparity))"
   ]
  },
  {
   "cell_type": "code",
   "execution_count": 23,
   "metadata": {},
   "outputs": [
    {
     "data": {
      "text/plain": [
       "0.44876989747453233"
      ]
     },
     "execution_count": 23,
     "metadata": {},
     "output_type": "execute_result"
    }
   ],
   "source": [
    "a"
   ]
  }
 ],
 "metadata": {
  "kernelspec": {
   "display_name": "Python 3.9.6 64-bit",
   "language": "python",
   "name": "python3"
  },
  "language_info": {
   "codemirror_mode": {
    "name": "ipython",
    "version": 3
   },
   "file_extension": ".py",
   "mimetype": "text/x-python",
   "name": "python",
   "nbconvert_exporter": "python",
   "pygments_lexer": "ipython3",
   "version": "3.10.9"
  },
  "orig_nbformat": 4,
  "vscode": {
   "interpreter": {
    "hash": "31f2aee4e71d21fbe5cf8b01ff0e069b9275f58929596ceb00d14d90e3e16cd6"
   }
  }
 },
 "nbformat": 4,
 "nbformat_minor": 2
}
