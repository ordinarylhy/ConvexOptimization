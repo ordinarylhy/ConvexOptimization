{
 "cells": [
  {
   "attachments": {},
   "cell_type": "markdown",
   "metadata": {},
   "source": [
    "17.15 Sparse index tracking"
   ]
  },
  {
   "cell_type": "code",
   "execution_count": 1,
   "metadata": {},
   "outputs": [],
   "source": [
    "import numpy as np\n",
    "import cvxpy as cp\n",
    "from matplotlib import pyplot as plt"
   ]
  },
  {
   "cell_type": "code",
   "execution_count": 24,
   "metadata": {},
   "outputs": [],
   "source": [
    "np.random.seed(1)\n",
    "n = 500  # number of stocks\n",
    "k = 20   # number of factors (not described or needed in problem statement)\n",
    "\n",
    "# generate rbar, Sigma\n",
    "F = 1.5 * np.random.rand(n, k) - 0.5   # factor matrix, entries uniform on [-0.5, 1]\n",
    "Sigma = 0.5 * F @ np.diag(np.random.rand(k)) @ F.T + np.diag(0.1 * np.random.rand(n))\n",
    "mu_rf = 0.2                            # risk-free return (weekly, 5% annual)\n",
    "SR = 0.4                               # Sharpe ratio\n",
    "rbar = mu_rf + SR * np.sqrt(np.diag(Sigma))  # expected return\n",
    "c = 5 + np.exp(2 * np.random.randn(n))       # market capitalization (index weights)"
   ]
  },
  {
   "cell_type": "code",
   "execution_count": 25,
   "metadata": {},
   "outputs": [],
   "source": [
    "w = cp.Variable(n)\n",
    "objective = cp.Minimize(cp.norm(w, 1)) # minimize the l1 norm\n",
    "constraints = [cp.quad_form(c - w, Sigma + np.outer(rbar, rbar)) <= 0.1 ** 2 * ((c.T @ rbar) ** 2 + c.T @ Sigma @ c)]\n",
    "prob = cp.Problem(objective, constraints)\n",
    "result = prob.solve()"
   ]
  },
  {
   "cell_type": "code",
   "execution_count": 28,
   "metadata": {},
   "outputs": [
    {
     "name": "stdout",
     "output_type": "stream",
     "text": [
      "500\n"
     ]
    },
    {
     "data": {
      "text/plain": [
       "47"
      ]
     },
     "execution_count": 28,
     "metadata": {},
     "output_type": "execute_result"
    }
   ],
   "source": [
    "print(np.count_nonzero(w.value))\n",
    "np.sum(np.abs(w.value) > 0.01)"
   ]
  },
  {
   "cell_type": "code",
   "execution_count": 30,
   "metadata": {},
   "outputs": [
    {
     "name": "stdout",
     "output_type": "stream",
     "text": [
      "5037.787206920254 4430.295836038715\n"
     ]
    }
   ],
   "source": [
    "print(c.T @ rbar, w.value.T @ rbar)"
   ]
  }
 ],
 "metadata": {
  "kernelspec": {
   "display_name": "Python 3.9.6 64-bit",
   "language": "python",
   "name": "python3"
  },
  "language_info": {
   "codemirror_mode": {
    "name": "ipython",
    "version": 3
   },
   "file_extension": ".py",
   "mimetype": "text/x-python",
   "name": "python",
   "nbconvert_exporter": "python",
   "pygments_lexer": "ipython3",
   "version": "3.10.9"
  },
  "orig_nbformat": 4,
  "vscode": {
   "interpreter": {
    "hash": "31f2aee4e71d21fbe5cf8b01ff0e069b9275f58929596ceb00d14d90e3e16cd6"
   }
  }
 },
 "nbformat": 4,
 "nbformat_minor": 2
}
