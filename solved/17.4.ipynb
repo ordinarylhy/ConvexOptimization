{
 "cells": [
  {
   "attachments": {},
   "cell_type": "markdown",
   "metadata": {},
   "source": [
    "17.4 Bounding portfolio risk with incomplete covariance information"
   ]
  },
  {
   "cell_type": "code",
   "execution_count": 1,
   "metadata": {},
   "outputs": [],
   "source": [
    "import numpy as np\n",
    "import cvxpy as cp\n",
    "from matplotlib import pyplot as plt"
   ]
  },
  {
   "cell_type": "code",
   "execution_count": 4,
   "metadata": {},
   "outputs": [],
   "source": [
    "x = np.array([0.1, .2, -.05, .1])\n",
    "n = 4"
   ]
  },
  {
   "cell_type": "code",
   "execution_count": 6,
   "metadata": {},
   "outputs": [
    {
     "name": "stdout",
     "output_type": "stream",
     "text": [
      "0.015166101233090486\n"
     ]
    }
   ],
   "source": [
    "Sigma = cp.Variable((n,n), PSD=True)\n",
    "objective = cp.Maximize(cp.quad_form(x, Sigma))\n",
    "constraints = [\n",
    "    Sigma[0,0] == .2, Sigma[1,1] == .1, Sigma[2,2] == .3, Sigma[3,3] == .1,\n",
    "    Sigma[0,1] >= 0, Sigma[0,2] >=0, Sigma[1,2] <=0, Sigma[1,3] <=0, Sigma[2,3] >= 0\n",
    "]\n",
    "prob = cp.Problem(objective, constraints)\n",
    "result = prob.solve()\n",
    "print(objective.value) # worst-case risk"
   ]
  },
  {
   "cell_type": "code",
   "execution_count": 7,
   "metadata": {},
   "outputs": [
    {
     "name": "stdout",
     "output_type": "stream",
     "text": [
      "0.007750000000000002\n"
     ]
    }
   ],
   "source": [
    "# when Sigma is diagonal\n",
    "print(x @ np.diag([0.2, .1, .3, .1]) @ x)"
   ]
  }
 ],
 "metadata": {
  "kernelspec": {
   "display_name": "Python 3.9.6 64-bit",
   "language": "python",
   "name": "python3"
  },
  "language_info": {
   "codemirror_mode": {
    "name": "ipython",
    "version": 3
   },
   "file_extension": ".py",
   "mimetype": "text/x-python",
   "name": "python",
   "nbconvert_exporter": "python",
   "pygments_lexer": "ipython3",
   "version": "3.10.9"
  },
  "orig_nbformat": 4,
  "vscode": {
   "interpreter": {
    "hash": "31f2aee4e71d21fbe5cf8b01ff0e069b9275f58929596ceb00d14d90e3e16cd6"
   }
  }
 },
 "nbformat": 4,
 "nbformat_minor": 2
}
