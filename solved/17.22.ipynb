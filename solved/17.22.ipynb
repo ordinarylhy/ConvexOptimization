{
 "cells": [
  {
   "attachments": {},
   "cell_type": "markdown",
   "metadata": {},
   "source": [
    "17.22 Portfolio optimization using multiple risk models"
   ]
  },
  {
   "attachments": {},
   "cell_type": "markdown",
   "metadata": {},
   "source": [
    "(a) Consider the dual problem. \n",
    "\n",
    "My original solution:\n",
    "\n",
    "$\\mathbb{H}_k:=\\{(w,w\\Sigma^kw)|1^Tw=1\\}$ $k=1,...,M$ are M hypersurfaces in $\\mathcal{R}^{n-1}\\times\\mathbb{R}$, where we identify $\\mathcal{R}^{n-1}$ with the hypersurface $\\{1^Tw=1\\}\\subset \\mathbb{R}^n$.\n",
    "\n",
    "Assume near $w^*$, $l$ of these surfaces $\\mathbb{H}_k, k\\in\\mathcal{L}$ intersect transversally. Therefore the intersection $\\mathcal{I}$ is a (n-l)-dimensional submanifold. \n",
    "\n",
    "Let $\\gamma_j = 0$ for $j\\notin\\mathcal{L}$.\n",
    "\n",
    "On the intersection $\\mathcal{I}$, $\\forall\\gamma$, $w^*$ gives the maximum of the problem\n",
    "\n",
    "maximize $\\mu^Tw-\\sum_{k\\in\\mathcal{L}}\\gamma_kw^T\\Sigma^kw$\n",
    "\n",
    "subject to $1^Tw=1$\n",
    "\n",
    "At $w^*$, identify the tangent space  $T_{w^*}\\mathcal{I}$ with a subspace of $\\mathcal{R}^{n-1}$ and decompose $\\mathcal{R}^{n-1}=T_{w^*}\\mathcal{I}\\oplus\\mathcal{N}$, where $\\mathcal{N}$ is the normal space at $w^*$ of dimension l-1.\n",
    "\n",
    "It suffices to let $w^*$ be the solution to this problem over $\\mathcal{N}$.\n",
    "\n",
    "Under mild assumptions (actually we need a strictly feasible point, i.e. Slater's condition holds), there exists a nonnegative(since $w\\Sigma^kw$ are convex, and hence the tails of the directional derivatives form a convex polygon, and the $\\gamma$ corresponds to the length of the arrows from the center of mass of the polygon to the vertices) linear combination $\\{\\gamma|\\sum_{k\\in\\mathcal{L}}\\gamma_k=1\\}$ of the directional derivatives $\\{\\mu -2\\Sigma^kw^*\\}_{k\\in\\mathcal{L}}$ that vanishes over $\\mathcal{N}$.\n"
   ]
  },
  {
   "cell_type": "code",
   "execution_count": 1,
   "metadata": {},
   "outputs": [],
   "source": [
    "# (b)\n",
    "import numpy as np\n",
    "import cvxpy as cp\n",
    "from matplotlib import pyplot as plt"
   ]
  },
  {
   "cell_type": "code",
   "execution_count": 2,
   "metadata": {},
   "outputs": [],
   "source": [
    "# data for multi risk portfolio portfolio problem\n",
    "n = 10\n",
    "M = 6\n",
    "gamma = 1.0\n",
    "mu = np.array([ 0.     , 0.01401, 0.03426, 0.07843, 0.06536,-0.0342 , 0.03325,-0.0053 ,\n",
    " -0.00361, 0.01437])\n",
    "Sigma_1 = np.array([[ 0.     , 0.     , 0.     , 0.     , 0.     , 0.     , 0.     , 0.     ,\n",
    "   0.     , 0.     ],\n",
    " [ 0.     , 0.09551, 0.0349 , 0.06526, 0.02499, 0.08272, 0.0574 , 0.0279 ,\n",
    "   0.06016, 0.02578],\n",
    " [ 0.     , 0.0349 , 0.10862, 0.05107, 0.04959, 0.08917, 0.03489, 0.03575,\n",
    "   0.05086, 0.04512],\n",
    " [ 0.     , 0.06526, 0.05107, 0.08159, 0.04136, 0.06879, 0.05743, 0.03721,\n",
    "   0.05037, 0.03557],\n",
    " [ 0.     , 0.02499, 0.04959, 0.04136, 0.05882, 0.05781, 0.03069, 0.02881,\n",
    "   0.04037, 0.04467],\n",
    " [ 0.     , 0.08272, 0.08917, 0.06879, 0.05781, 0.11844, 0.05441, 0.03745,\n",
    "   0.07088, 0.05695],\n",
    " [ 0.     , 0.0574 , 0.03489, 0.05743, 0.03069, 0.05441, 0.06421, 0.0201 ,\n",
    "   0.05843, 0.02407],\n",
    " [ 0.     , 0.0279 , 0.03575, 0.03721, 0.02881, 0.03745, 0.0201 , 0.04035,\n",
    "   0.03334, 0.01554],\n",
    " [ 0.     , 0.06016, 0.05086, 0.05037, 0.04037, 0.07088, 0.05843, 0.03334,\n",
    "   0.07538, 0.02431],\n",
    " [ 0.     , 0.02578, 0.04512, 0.03557, 0.04467, 0.05695, 0.02407, 0.01554,\n",
    "   0.02431, 0.04693]])\n",
    "Sigma_2 = np.array([[ 0.     , 0.     , 0.     , 0.     , 0.     , 0.     , 0.     , 0.     ,\n",
    "   0.     , 0.     ],\n",
    " [ 0.     , 0.09527, 0.04324, 0.06411, 0.03937, 0.08697, 0.0531 , 0.02343,\n",
    "   0.04872, 0.03118],\n",
    " [ 0.     , 0.04324, 0.10897, 0.05601, 0.0504 , 0.07851, 0.02892, 0.05001,\n",
    "   0.05234, 0.03949],\n",
    " [ 0.     , 0.06411, 0.05601, 0.08566, 0.04111, 0.07517, 0.05672, 0.04489,\n",
    "   0.04828, 0.02699],\n",
    " [ 0.     , 0.03937, 0.0504 , 0.04111, 0.0629 , 0.06144, 0.03637, 0.01778,\n",
    "   0.03433, 0.03934],\n",
    " [ 0.     , 0.08697, 0.07851, 0.07517, 0.06144, 0.11296, 0.04474, 0.04238,\n",
    "   0.0637 , 0.04279],\n",
    " [ 0.     , 0.0531 , 0.02892, 0.05672, 0.03637, 0.04474, 0.06381, 0.02148,\n",
    "   0.04539, 0.02673],\n",
    " [ 0.     , 0.02343, 0.05001, 0.04489, 0.01778, 0.04238, 0.02148, 0.04386,\n",
    "   0.02824, 0.02502],\n",
    " [ 0.     , 0.04872, 0.05234, 0.04828, 0.03433, 0.0637 , 0.04539, 0.02824,\n",
    "   0.07299, 0.01923],\n",
    " [ 0.     , 0.03118, 0.03949, 0.02699, 0.03934, 0.04279, 0.02673, 0.02502,\n",
    "   0.01923, 0.0441 ]])\n",
    "Sigma_3 = np.array([[ 0.     , 0.     , 0.     , 0.     , 0.     , 0.     , 0.     , 0.     ,\n",
    "   0.     , 0.     ],\n",
    " [ 0.     , 0.09758, 0.036  , 0.05946, 0.03143, 0.08617, 0.05603, 0.02755,\n",
    "   0.04373, 0.03548],\n",
    " [ 0.     , 0.036  , 0.11032, 0.07466, 0.04976, 0.06889, 0.04397, 0.0413 ,\n",
    "   0.0693 , 0.05059],\n",
    " [ 0.     , 0.05946, 0.07466, 0.08391, 0.04429, 0.06875, 0.05999, 0.03834,\n",
    "   0.05702, 0.03957],\n",
    " [ 0.     , 0.03143, 0.04976, 0.04429, 0.0628 , 0.0601 , 0.04081, 0.02044,\n",
    "   0.0435 , 0.03797],\n",
    " [ 0.     , 0.08617, 0.06889, 0.06875, 0.0601 , 0.11514, 0.05033, 0.03409,\n",
    "   0.05194, 0.05301],\n",
    " [ 0.     , 0.05603, 0.04397, 0.05999, 0.04081, 0.05033, 0.0634 , 0.03646,\n",
    "   0.055  , 0.03016],\n",
    " [ 0.     , 0.02755, 0.0413 , 0.03834, 0.02044, 0.03409, 0.03646, 0.04068,\n",
    "   0.03718, 0.02399],\n",
    " [ 0.     , 0.04373, 0.0693 , 0.05702, 0.0435 , 0.05194, 0.055  , 0.03718,\n",
    "   0.07564, 0.02574],\n",
    " [ 0.     , 0.03548, 0.05059, 0.03957, 0.03797, 0.05301, 0.03016, 0.02399,\n",
    "   0.02574, 0.04612]])\n",
    "Sigma_4 = np.array([[ 0.     , 0.     , 0.     , 0.     , 0.     , 0.     , 0.     , 0.     ,\n",
    "   0.     , 0.     ],\n",
    " [ 0.     , 0.09257, 0.05796, 0.06027, 0.02972, 0.07934, 0.04614, 0.03909,\n",
    "   0.04214, 0.04069],\n",
    " [ 0.     , 0.05796, 0.11237, 0.07639, 0.06354, 0.07092, 0.05474, 0.05455,\n",
    "   0.04729, 0.05416],\n",
    " [ 0.     , 0.06027, 0.07639, 0.08818, 0.04459, 0.07078, 0.06168, 0.03892,\n",
    "   0.05792, 0.02804],\n",
    " [ 0.     , 0.02972, 0.06354, 0.04459, 0.05821, 0.04937, 0.03315, 0.02327,\n",
    "   0.03579, 0.04053],\n",
    " [ 0.     , 0.07934, 0.07092, 0.07078, 0.04937, 0.11239, 0.04701, 0.04395,\n",
    "   0.05605, 0.05801],\n",
    " [ 0.     , 0.04614, 0.05474, 0.06168, 0.03315, 0.04701, 0.06062, 0.02048,\n",
    "   0.03839, 0.02321],\n",
    " [ 0.     , 0.03909, 0.05455, 0.03892, 0.02327, 0.04395, 0.02048, 0.0407 ,\n",
    "   0.03774, 0.03034],\n",
    " [ 0.     , 0.04214, 0.04729, 0.05792, 0.03579, 0.05605, 0.03839, 0.03774,\n",
    "   0.07333, 0.03067],\n",
    " [ 0.     , 0.04069, 0.05416, 0.02804, 0.04053, 0.05801, 0.02321, 0.03034,\n",
    "   0.03067, 0.04903]])\n",
    "Sigma_5 = np.array([[ 0.     , 0.     , 0.     , 0.     , 0.     , 0.     , 0.     , 0.     ,\n",
    "   0.     , 0.     ],\n",
    " [ 0.     , 0.09782, 0.03566, 0.07154, 0.02311, 0.08306, 0.04749, 0.02112,\n",
    "   0.0424 , 0.03644],\n",
    " [ 0.     , 0.03566, 0.10871, 0.07059, 0.06327, 0.07008, 0.05601, 0.03631,\n",
    "   0.04979, 0.03542],\n",
    " [ 0.     , 0.07154, 0.07059, 0.08676, 0.03368, 0.07664, 0.04439, 0.03324,\n",
    "   0.04954, 0.04171],\n",
    " [ 0.     , 0.02311, 0.06327, 0.03368, 0.06425, 0.06407, 0.03624, 0.02072,\n",
    "   0.03599, 0.03501],\n",
    " [ 0.     , 0.08306, 0.07008, 0.07664, 0.06407, 0.12031, 0.05653, 0.04843,\n",
    "   0.07035, 0.0477 ],\n",
    " [ 0.     , 0.04749, 0.05601, 0.04439, 0.03624, 0.05653, 0.06048, 0.02421,\n",
    "   0.04491, 0.03085],\n",
    " [ 0.     , 0.02112, 0.03631, 0.03324, 0.02072, 0.04843, 0.02421, 0.04139,\n",
    "   0.03155, 0.01375],\n",
    " [ 0.     , 0.0424 , 0.04979, 0.04954, 0.03599, 0.07035, 0.04491, 0.03155,\n",
    "   0.07377, 0.02758],\n",
    " [ 0.     , 0.03644, 0.03542, 0.04171, 0.03501, 0.0477 , 0.03085, 0.01375,\n",
    "   0.02758, 0.04266]])\n",
    "Sigma_6 = np.array([[ 0.     , 0.     , 0.     , 0.     , 0.     , 0.     , 0.     , 0.     ,\n",
    "   0.     , 0.     ],\n",
    " [ 0.     , 0.09255, 0.04784, 0.06448, 0.03509, 0.0763 , 0.04992, 0.02928,\n",
    "   0.0457 , 0.03255],\n",
    " [ 0.     , 0.04784, 0.1073 , 0.06532, 0.06136, 0.08782, 0.04596, 0.04693,\n",
    "   0.05876, 0.04758],\n",
    " [ 0.     , 0.06448, 0.06532, 0.08067, 0.04062, 0.07364, 0.05039, 0.03586,\n",
    "   0.06005, 0.03123],\n",
    " [ 0.     , 0.03509, 0.06136, 0.04062, 0.05804, 0.05872, 0.03194, 0.02341,\n",
    "   0.04013, 0.03734],\n",
    " [ 0.     , 0.0763 , 0.08782, 0.07364, 0.05872, 0.10969, 0.05726, 0.04673,\n",
    "   0.05876, 0.0505 ],\n",
    " [ 0.     , 0.04992, 0.04596, 0.05039, 0.03194, 0.05726, 0.06021, 0.02738,\n",
    "   0.04926, 0.02845],\n",
    " [ 0.     , 0.02928, 0.04693, 0.03586, 0.02341, 0.04673, 0.02738, 0.0397 ,\n",
    "   0.02841, 0.02057],\n",
    " [ 0.     , 0.0457 , 0.05876, 0.06005, 0.04013, 0.05876, 0.04926, 0.02841,\n",
    "   0.07194, 0.0291 ],\n",
    " [ 0.     , 0.03255, 0.04758, 0.03123, 0.03734, 0.0505 , 0.02845, 0.02057,\n",
    "   0.0291 , 0.04176]])"
   ]
  },
  {
   "cell_type": "code",
   "execution_count": 10,
   "metadata": {},
   "outputs": [
    {
     "name": "stdout",
     "output_type": "stream",
     "text": [
      "[ 0.42473821  0.66426997 -0.11469037  1.38055509  1.42422852 -1.5270649\n",
      " -0.61401545 -0.49879081 -0.25406876  0.11483851]\n",
      "risk 0: 0.12188147870624283\n",
      "risk 1: 0.08454350933419626\n",
      "risk 2: 0.08247154817025176\n",
      "risk 3: 0.12188147867414484\n",
      "risk 4: 0.12188147866709222\n",
      "risk 5: 0.12188147859758236\n",
      "worst case risk: 0.12188147870624283\n"
     ]
    }
   ],
   "source": [
    "Sigmas = np.array([Sigma_1, Sigma_2, Sigma_3, Sigma_4, Sigma_5, Sigma_6])\n",
    "\n",
    "w = cp.Variable(n)\n",
    "t = cp.Variable()\n",
    "objective = cp.Maximize(mu.T @ w - gamma * t)\n",
    "constraints = [cp.sum(w) == 1]\n",
    "for S in Sigmas:\n",
    "    constraints += [cp.quad_form(w, S) <= t]\n",
    "prob = cp.Problem(objective, constraints)\n",
    "result = prob.solve()\n",
    "w_opt = w.value\n",
    "print(w_opt)\n",
    "risk_wc = 0\n",
    "for i, S in enumerate(Sigmas):\n",
    "    print(f'risk {i}:', w_opt.T @ S @ w_opt)\n",
    "    risk_wc = max(risk_wc, w_opt.T @ S @ w_opt)\n",
    "print('worst case risk:', risk_wc)"
   ]
  },
  {
   "attachments": {},
   "cell_type": "markdown",
   "metadata": {},
   "source": [
    "4 hypersurfaces intersect at $w^*$. Set $\\gamma_1,\\gamma_2=0$. $\\mathcal{L}=\\{0,3,4,5\\}$."
   ]
  },
  {
   "cell_type": "code",
   "execution_count": 39,
   "metadata": {},
   "outputs": [
    {
     "data": {
      "text/plain": [
       "array([0.29231687, 0.        , 0.        , 0.46579888, 0.14230493,\n",
       "       0.09957932])"
      ]
     },
     "execution_count": 39,
     "metadata": {},
     "output_type": "execute_result"
    }
   ],
   "source": [
    "L = [0,3,4,5]\n",
    "gammas = cp.Variable(M, nonneg=True)\n",
    "objective = cp.Minimize(cp.sum_squares((mu - 2 * Sigmas[L] @ w_opt).T @ gammas[L]))\n",
    "constraints = [\n",
    "    cp.sum(gammas) == 1,\n",
    "    gammas[1] == 0,\n",
    "    gammas[2] == 0\n",
    "]\n",
    "prob = cp.Problem(objective, constraints)\n",
    "result = prob.solve()\n",
    "gammas = gammas.value\n",
    "gammas"
   ]
  },
  {
   "cell_type": "code",
   "execution_count": 40,
   "metadata": {},
   "outputs": [
    {
     "data": {
      "text/plain": [
       "1.0886494103341351e-13"
      ]
     },
     "execution_count": 40,
     "metadata": {},
     "output_type": "execute_result"
    }
   ],
   "source": [
    "objective.value "
   ]
  },
  {
   "cell_type": "code",
   "execution_count": 41,
   "metadata": {},
   "outputs": [
    {
     "data": {
      "text/plain": [
       "array([ 0.42473917,  0.664268  , -0.11469055,  1.38054704,  1.42422929,\n",
       "       -1.52705788, -0.61400782, -0.49878687, -0.25407249,  0.11483211])"
      ]
     },
     "execution_count": 41,
     "metadata": {},
     "output_type": "execute_result"
    }
   ],
   "source": [
    "w = cp.Variable(n)\n",
    "objective = cp.Maximize(mu.T @ w - gammas @ cp.vstack([cp.quad_form(w, S) for S in Sigmas]))\n",
    "constraints = [cp.sum(w) == 1]\n",
    "prob = cp.Problem(objective, constraints)\n",
    "result = prob.solve()\n",
    "w.value"
   ]
  },
  {
   "cell_type": "code",
   "execution_count": 42,
   "metadata": {},
   "outputs": [
    {
     "name": "stdout",
     "output_type": "stream",
     "text": [
      "[ 0.42473821  0.66426997 -0.11469037  1.38055509  1.42422852 -1.5270649\n",
      " -0.61401545 -0.49879081 -0.25406876  0.11483851]\n",
      "[ 0.42473917  0.664268   -0.11469055  1.38054704  1.42422929 -1.52705788\n",
      " -0.61400782 -0.49878687 -0.25407249  0.11483211]\n"
     ]
    }
   ],
   "source": [
    "# compare w^* with w obtained in the second formulation\n",
    "print(w_opt)\n",
    "print(w.value)"
   ]
  }
 ],
 "metadata": {
  "kernelspec": {
   "display_name": "Python 3.9.6 64-bit",
   "language": "python",
   "name": "python3"
  },
  "language_info": {
   "codemirror_mode": {
    "name": "ipython",
    "version": 3
   },
   "file_extension": ".py",
   "mimetype": "text/x-python",
   "name": "python",
   "nbconvert_exporter": "python",
   "pygments_lexer": "ipython3",
   "version": "3.10.9"
  },
  "orig_nbformat": 4,
  "vscode": {
   "interpreter": {
    "hash": "31f2aee4e71d21fbe5cf8b01ff0e069b9275f58929596ceb00d14d90e3e16cd6"
   }
  }
 },
 "nbformat": 4,
 "nbformat_minor": 2
}
